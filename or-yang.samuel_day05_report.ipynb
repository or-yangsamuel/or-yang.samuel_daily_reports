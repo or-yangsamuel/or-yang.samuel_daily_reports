{
 "cells": [
  {
   "cell_type": "markdown",
   "metadata": {
    "colab_type": "text",
    "id": "view-in-github"
   },
   "source": [
    "<a href=\"https://colab.research.google.com/github/ai-technipreneurs/python_course_colab_notebooks/blob/main/04_Lecture04.ipynb\" target=\"_parent\"><img src=\"https://colab.research.google.com/assets/colab-badge.svg\" alt=\"Open In Colab\"/></a>"
   ]
  },
  {
   "cell_type": "markdown",
   "metadata": {
    "id": "zytLE87rcwGD"
   },
   "source": [
    "<center>\n",
    "    <a href=\"https://aims-senegal.org/\" ><img src=\"images/logoaimssn.jpeg\" style=\"float:left; max-width: 650px; display: inline\" alt=\"AIMS-SN\"/> </a>\n",
    "    </center>\n",
    "\n",
    "\n",
    "\n",
    "<center>\n",
    "    \n",
    "<a href=\"https://acas-yde.org/\" ><img src=\"images/logo-ACAS.jpg\" style=\"float:right; max-width: 250px; display: inline\" alt=\"ACAS\"/></a>\n",
    "    \n",
    "</center>\n"
   ]
  },
  {
   "cell_type": "markdown",
   "metadata": {
    "id": "dJTJTuU0cwGG"
   },
   "source": [
    "****\n",
    "\n",
    "# <center> <b> <span style=\"color:orange;\"> Python Proficiency for Scientific Computing and Data Science (PyPro-SCiDaS)  </span> </b></center>\n",
    "\n",
    "### <center> <b> <span style=\"color:green;\">An Initiation to Programming using Python (Init2Py) </span> </b></center>\n",
    "    \n"
   ]
  },
  {
   "cell_type": "markdown",
   "metadata": {
    "id": "YDafQyDBcwGH"
   },
   "source": [
    "****\n",
    "\n",
    "# <center> <b> <span style=\"color:blue;\"> Lecture 4: Flow control </span> </b></center>\n",
    "\n",
    "<!--NAVIGATION-->\n",
    "<  [3.Iterable Objects or Containers](03.Lecture03.ipynb)| [ToC](Index.ipynb) | [5.Functions, Modules and Packages](05.Lecture05.ipynb)>\n",
    "\n",
    "****"
   ]
  },
  {
   "cell_type": "markdown",
   "metadata": {
    "id": "yAmi2hLpcwGI"
   },
   "source": [
    "**Flow control** in Python is essential for directing the flow of a program's execution, enabling dynamic and adaptable behavior. `Conditional statements`, such as `if`, `elif`, and `else`, allow you to execute different blocks of code based on specific conditions, facilitating complex decision-making processes. `Loops`, including `for` and `while`, provide mechanisms for repeating code execution, which is invaluable for tasks that involve processing collections of data or performing actions multiple times. Mastering these flow control constructs is key to writing efficient, readable, and flexible code, as they allow you to tailor your program's behavior to meet varying conditions and requirements."
   ]
  },
  {
   "cell_type": "markdown",
   "metadata": {
    "id": "LDAI1ZVJcwGI"
   },
   "source": [
    "## 0. Conditional Structure\n",
    "\n",
    "### 0.0. Instructions with the if...else clause\n",
    "\n",
    "Conditional statements are operations that the program executes when a logical expression evaluates to `True` or `False` (depending on the case). Conditional statements are defined within an `if...else` clause.\n",
    "\n",
    "The general structure of an `if...else` block is as follows:\n",
    "\n",
    "```python\n",
    "if logical_expression:\n",
    "    statement1\n",
    "    statement2\n",
    "    ...\n",
    "    statementn\n",
    "else:\n",
    "    other_block_of_statements\n",
    "```\n",
    "\n",
    "Note the `:` symbol following the `if` or `else` keyword, which indicates the end of the `if` or `else` declaration and the beginning of the statement definitions. Also, note that the `else` clause is optional, meaning there can be an `if` clause without an `else` clause.\n",
    "\n",
    "It is crucial to observe the essential role of *indentation*, which delineates each block of statements, and the presence of colons after the condition and after the `else` keyword."
   ]
  },
  {
   "cell_type": "code",
   "execution_count": 2,
   "metadata": {
    "id": "rK6kERnlcwGJ"
   },
   "outputs": [
    {
     "name": "stdout",
     "output_type": "stream",
     "text": [
      "a exceeds 100\n",
      "================================================\n",
      "\t\n",
      "x does not exceed 100\n"
     ]
    }
   ],
   "source": [
    "# Instructions with a simple \"if\" clause\n",
    "a = 150\n",
    "if (a > 100):\n",
    "    print(\"a exceeds 100\")\n",
    "\n",
    "print(\"================================================\")\n",
    "print('\\t')\n",
    "\n",
    "\n",
    "# Instructions with the if...else clause\n",
    "x = 65\n",
    "if (x > 70):\n",
    "    print(\"x exceeds 70\")b\n",
    "else:\n",
    "    print(\"x does not exceed 100\")\n"
   ]
  },
  {
   "cell_type": "code",
   "execution_count": 11,
   "metadata": {},
   "outputs": [
    {
     "name": "stdin",
     "output_type": "stream",
     "text": [
      "Enter the values of x :\n",
      " 9\n",
      "Enter the values of y:\n",
      " 5\n"
     ]
    },
    {
     "name": "stdout",
     "output_type": "stream",
     "text": [
      "x is greater than y and x exceed y by 4.0\n"
     ]
    }
   ],
   "source": [
    "\n",
    "x=float(input(\"Enter the values of x :\\n\"))\n",
    "y=float(input(\"Enter the values of y:\\n\"))\n",
    "if x>y:\n",
    "    print('x is greater than y and x exceed y by',x-y)\n",
    "else:\n",
    "    print('x may be less than y or equal to y')\n",
    "    "
   ]
  },
  {
   "cell_type": "markdown",
   "metadata": {
    "id": "LtNWxdXicwGK"
   },
   "source": [
    "### 0.1. Instructions with the if...elif...else clause\n",
    "\n",
    "The `if...elif...else` clause is used when there are multiple logical conditions, each associated with instructions to execute when they are met.\n",
    "\n",
    "```python\n",
    "    x = 0\n",
    "    if x > 0 :\n",
    "        print(\"x is positive\")\n",
    "    elif x < 0 :\n",
    "        print(\"x is negative\")\n",
    "    else:\n",
    "        print(\"x is zero\")\n",
    "```"
   ]
  },
  {
   "cell_type": "code",
   "execution_count": 5,
   "metadata": {
    "id": "J95rYfIicwGK"
   },
   "outputs": [
    {
     "name": "stdout",
     "output_type": "stream",
     "text": [
      "x is negative.\n"
     ]
    }
   ],
   "source": [
    "x = -9\n",
    "if x > 0 :\n",
    "    print(\"x is positive.\")\n",
    "elif x < 0 :\n",
    "    print(\"x is negative.\")\n",
    "else:\n",
    "        print(\"x is zero.\")"
   ]
  },
  {
   "cell_type": "code",
   "execution_count": 15,
   "metadata": {},
   "outputs": [
    {
     "name": "stdin",
     "output_type": "stream",
     "text": [
      "Enter the values of x :\n",
      " 5\n",
      "Enter the values of y:\n",
      " 9\n"
     ]
    },
    {
     "name": "stdout",
     "output_type": "stream",
     "text": [
      "x is less than y and x is 4.0  less y\n"
     ]
    }
   ],
   "source": [
    "x=float(input(\"Enter the values of x :\\n\"))\n",
    "y=float(input(\"Enter the values of y:\\n\"))\n",
    "if x>y:\n",
    "    print('x is greater than y and x exceed y by',x-y)\n",
    "elif x<y:\n",
    "    print('x is less than y and x is',y-x,' less y')\n",
    "else:\n",
    "    print('x is equal to y')\n",
    "    "
   ]
  },
  {
   "cell_type": "markdown",
   "metadata": {
    "id": "voQgBvQWcwGK"
   },
   "source": [
    "**Note:** As demonstrated by the example above, the `elif` clause can be used as many times as there are alternative conditions between the initial `if` clause and the final `else` clause. However, using `elif` is not mandatory for handling alternative conditions. You can simply use additional `if` clauses instead."
   ]
  },
  {
   "cell_type": "markdown",
   "metadata": {
    "id": "Y-0hV0OlcwGL"
   },
   "source": [
    "### 0.2. Defining nested `if` clauses**\n",
    "\n",
    "The previous examples illustrate first-level `if` clauses. In complex programs, it is very common to have nested `if` clauses, meaning that `if` clauses are defined inside other `if` clauses, sometimes at multiple levels. See the example below:\n",
    "\n",
    "```python\n",
    "a = 15\n",
    "b = 10\n",
    "\n",
    "if a > b:\n",
    "    print(\"a is greater than b\")\n",
    "    if a - b > 5:\n",
    "        print(\"The difference between a and b is greater than 5\")\n",
    "    else:\n",
    "        print(\"The difference between a and b is 5 or less\")\n",
    "else:\n",
    "    print(\"a is not greater than b\")\n",
    "```\n",
    "\n",
    "In this example, there is an `if` statement nested within another `if` statement. This structure allows for more granular control over the conditions and the corresponding actions in your program.\n"
   ]
  },
  {
   "cell_type": "code",
   "execution_count": 6,
   "metadata": {
    "id": "hVe24DK8cwGM"
   },
   "outputs": [
    {
     "name": "stdout",
     "output_type": "stream",
     "text": [
      "a is greater than b\n",
      "The difference between a and b is 5 or less\n"
     ]
    }
   ],
   "source": [
    "a = 15\n",
    "b = 10\n",
    "\n",
    "if a > b:\n",
    "    print(\"a is greater than b\")\n",
    "    if a - b > 5:\n",
    "        print(\"The difference between a and b is greater than 5\")\n",
    "    else:\n",
    "        print(\"The difference between a and b is 5 or less\")\n",
    "else:\n",
    "    print(\"a is not greater than b\")"
   ]
  },
  {
   "cell_type": "code",
   "execution_count": 29,
   "metadata": {},
   "outputs": [
    {
     "name": "stdin",
     "output_type": "stream",
     "text": [
      "Enter the first number a: -8\n",
      "Enter the first number b: 3\n"
     ]
    },
    {
     "name": "stdout",
     "output_type": "stream",
     "text": [
      " a is greater than b in absolute value\n",
      "b does not divide a because the result has a remainder of  1 which is not equal to  0\n"
     ]
    }
   ],
   "source": [
    "# Dvisibility of two numbers\n",
    "a=int(input('Enter the first number a:'))\n",
    "b=int(input('Enter the first number b:'))\n",
    "if abs(a)>=abs(b) and  b!=0:\n",
    "    print(' a is greater than b in absolute value')\n",
    "    if a%b==0:\n",
    "        print('b divides a and the quotient is',a/b)\n",
    "    else: \n",
    "       print('b does not divide a because the result has a remainder of ',a%b, 'which is not equal to ',0)\n",
    "else:\n",
    "    print('a is smaller in magnitude that b')"
   ]
  },
  {
   "cell_type": "code",
   "execution_count": 7,
   "metadata": {
    "id": "By-7nDPhcwGM"
   },
   "outputs": [
    {
     "name": "stdout",
     "output_type": "stream",
     "text": [
      "La classification des animaux est complexe\n"
     ]
    }
   ],
   "source": [
    "embranchement = \"rien\"\n",
    "if embranchement == \"vertébrés\":\n",
    "    if classe == \"mammifères\":\n",
    "        if ordre == \"carnivores\":\n",
    "            if famille == \"félins\":\n",
    "                print(\"Il s’agit peut-être d’un chat\")\n",
    "        print(\"C’est en tous cas un mammifère\")\n",
    "    elif classe == \"oiseaux\":\n",
    "        print(\"c’est peut-être un canari\")\n",
    "print(\"La classification des animaux est complexe\")"
   ]
  },
  {
   "cell_type": "markdown",
   "metadata": {
    "id": "linWJbc0cwGN"
   },
   "source": [
    "## 1. Loop Instructions\n",
    "\n",
    "In Python, there are two main types of loop instructions:\n",
    "\n",
    "1. **`while...` loops**: These loops execute a block of code repeatedly as long as a specified condition remains `True`. They are useful when the number of iterations is not known in advance and depends on dynamic conditions evaluated during execution.\n",
    "\n",
    "2. **`for... in...` loops**: These loops iterate over a sequence (such as a list, tuple, or string) or other iterable objects. They are ideal for iterating through known sequences or ranges of values, allowing for clear and concise iteration over collections or ranges.\n",
    "\n",
    "Both types of loops are fundamental for controlling the flow of execution and repeating tasks efficiently in Python programs.\n",
    "\n",
    "\n",
    "###  1.0. while... loops\n",
    "\n",
    "After introducing conditional structures, we turn our attention to loop structures: these structures allow a block of instructions to be executed multiple times. These repetitions fall into two categories:\n",
    "\n",
    "- **Conditional repetitions**: The block of instructions is repeated as long as a condition is true.\n",
    "\n",
    "- **Unconditional repetitions**: The block of instructions is repeated a specified number of times.\n",
    "\n",
    "The general syntax for defining `while` loop instructions is as follows:\n",
    "\n",
    "```python\n",
    "   Initialize increment variable\n",
    "   while condition:\n",
    "        block_of_instructions\n",
    "        increment\n",
    "```\n",
    "\n",
    "As with the `if` structure, the condition is first evaluated, and if it is true, the block of instructions is executed. However, with the `while` loop, after executing the block of instructions, the condition is evaluated again. This process repeats until the condition becomes false. Therefore, it is essential to define an increment variable whose value changes after each execution so that the condition can eventually become false. This increment is necessary to prevent the instructions from being evaluated indefinitely, creating an infinite loop (or endless loop). Such a situation requires forcibly stopping the program's execution."
   ]
  },
  {
   "cell_type": "code",
   "execution_count": 1,
   "metadata": {
    "id": "OEUgH_3qcwGN"
   },
   "outputs": [
    {
     "name": "stdout",
     "output_type": "stream",
     "text": [
      "The value of x is  1\n",
      "The value of x is  2\n",
      "The value of x is  3\n",
      "The value of x is  4\n",
      "The value of x is  5\n",
      "The value of x is  6\n",
      "The value of x is  7\n",
      "The value of x is  8\n",
      "The value of x is  9\n"
     ]
    }
   ],
   "source": [
    "x = 1 # Initialization of the variable x\n",
    "while (x < 10):\n",
    "    print('The value of x is ', x)\n",
    "    x = x + 1 # Increment of the variable x"
   ]
  },
  {
   "cell_type": "code",
   "execution_count": 37,
   "metadata": {},
   "outputs": [
    {
     "name": "stdout",
     "output_type": "stream",
     "text": [
      "The value of 1 is -2\n",
      "The value of 3 is -6\n",
      "The value of 5 is -2\n",
      "The value of 7 is 10\n",
      "The value of 9 is 30\n",
      "The value of 11 is 58\n",
      "The value of 13 is 94\n",
      "The value of 15 is 138\n",
      "The value of 17 is 190\n",
      "The value of 19 is 250\n"
     ]
    }
   ],
   "source": [
    "# Writing a simple program to evaluate a math exprsession for a number of values\n",
    "x=1\n",
    "b=20\n",
    "while (x<b):\n",
    "    print('The value of',x,'is',x**2-6*x+3)\n",
    "    x+=2"
   ]
  },
  {
   "cell_type": "code",
   "execution_count": 13,
   "metadata": {},
   "outputs": [
    {
     "name": "stdout",
     "output_type": "stream",
     "text": [
      "Enter a natural number n:5\n",
      "The sum of the first 5 numbers is 55 .\n"
     ]
    }
   ],
   "source": [
    "'''A program to the sum of the squares of the first n positive numbers.'''\n",
    "n=int(input(\"Enter a natural number n:\"))\n",
    "i=1\n",
    "sum=0\n",
    "while (i<=n):\n",
    "    sum+=i**2\n",
    "    i+=1\n",
    "print(f'The sum of the first {n} numbers is',sum,'.')"
   ]
  },
  {
   "cell_type": "code",
   "execution_count": 17,
   "metadata": {
    "id": "xXMCEbLPcwGN"
   },
   "outputs": [
    {
     "name": "stdout",
     "output_type": "stream",
     "text": [
      "pommes\n",
      "oranges\n",
      "fraises\n",
      "bananes\n"
     ]
    }
   ],
   "source": [
    "fruits = ['pommes', 'oranges', 'fraises', 'bananes']\n",
    "i = 0\n",
    "while i < len(fruits):\n",
    "    print (fruits[i])\n",
    "    i = i + 1"
   ]
  },
  {
   "cell_type": "code",
   "execution_count": 83,
   "metadata": {},
   "outputs": [
    {
     "name": "stdout",
     "output_type": "stream",
     "text": [
      "['oranges', 'fraises', 'bananes']\n",
      " The size of the sub_list is 3\n"
     ]
    }
   ],
   "source": [
    "# Want to print fruit in fruits of length 7 in a list and determine the size of the sub_list.\n",
    "fruits = ['pommes', 'oranges', 'fraises', 'bananes']\n",
    "i=0\n",
    "sub=[]\n",
    "while (i<len(fruits)):\n",
    "    fruit=fruits[i]\n",
    "    if len(fruit)==7:\n",
    "        sub.append(fruit)\n",
    "    i+=1\n",
    "print(sub)\n",
    "print(' The size of the sub_list is',len(sub))\n",
    "    \n",
    "    "
   ]
  },
  {
   "cell_type": "markdown",
   "metadata": {
    "id": "IE5HNJYncwGO"
   },
   "source": [
    "### 1.1. Loop Instructions: `for... in...`\n",
    "\n",
    "When we want to repeat a block of instructions a specified number of times, we can use a *counter*, which is a variable that counts the number of repetitions and controls the exit of the `while` loop. This is illustrated in the following example, where a function takes an integer `n` as an argument and prints the same message `n` times.\n",
    "\n",
    "To perform such a repetition, we have a loop structure that saves us from initializing the counter `(i = 0)` and incrementing it `(i += 1)`: this is the structure introduced by the `for` keyword.\n",
    "\n",
    "The general syntax for defining `for... in...` loop instructions is as follows:\n",
    "\n",
    "```python\n",
    "   for element in sequence_of_values :\n",
    "        block of instructions\n",
    "```"
   ]
  },
  {
   "cell_type": "code",
   "execution_count": 31,
   "metadata": {
    "id": "vYavbI01cwGO"
   },
   "outputs": [
    {
     "name": "stdout",
     "output_type": "stream",
     "text": [
      "I repeat myself 5 times. (i=0)\n",
      "I repeat myself 5 times. (i=1)\n",
      "I repeat myself 5 times. (i=2)\n",
      "I repeat myself 5 times. (i=3)\n",
      "I repeat myself 5 times. (i=4)\n"
     ]
    }
   ],
   "source": [
    "n = 5\n",
    "for i in range(n):\n",
    "    print('I repeat myself {} times.' ' (i={})'.format(n, i))"
   ]
  },
  {
   "cell_type": "code",
   "execution_count": 32,
   "metadata": {
    "id": "z9tHzZwvcwGO"
   },
   "outputs": [
    {
     "name": "stdout",
     "output_type": "stream",
     "text": [
      "1\n",
      "2\n",
      "3\n",
      "4\n",
      "5\n",
      "6\n",
      "7\n",
      "8\n",
      "9\n",
      "10\n"
     ]
    }
   ],
   "source": [
    "# Instruction dans une boucle « for.. in ... » simple\n",
    "for i in range(1,11) :\n",
    "    print(i)"
   ]
  },
  {
   "cell_type": "code",
   "execution_count": 77,
   "metadata": {},
   "outputs": [
    {
     "name": "stdout",
     "output_type": "stream",
     "text": [
      "1\n",
      "5\n",
      "9\n",
      "13\n",
      "17\n"
     ]
    }
   ],
   "source": [
    "for j in range(1,20,4):\n",
    "    print(j)"
   ]
  },
  {
   "cell_type": "code",
   "execution_count": 33,
   "metadata": {
    "id": "kyiYRwkHcwGO"
   },
   "outputs": [
    {
     "name": "stdout",
     "output_type": "stream",
     "text": [
      "H\n",
      "e\n",
      "l\n",
      "l\n",
      "o\n",
      " \n",
      "w\n",
      "o\n",
      "r\n",
      "l\n",
      "d\n"
     ]
    }
   ],
   "source": [
    "# Boucle « for.. in... » sur une chaine de caractères\n",
    "listch = \"Hello world\"\n",
    "for i in listch :\n",
    "    print ( i )"
   ]
  },
  {
   "cell_type": "code",
   "execution_count": 34,
   "metadata": {
    "id": "DXOYpx9AcwGO"
   },
   "outputs": [
    {
     "name": "stdout",
     "output_type": "stream",
     "text": [
      "The condition is not verified for the element 4\n",
      "The condition is verified for the element 5\n",
      "The condition is not verified for the element 6\n"
     ]
    }
   ],
   "source": [
    "# Combining a `for...in...` Loop with an `if` Clause\n",
    "listnb = [4, 5, 6]\n",
    "for i in listnb:\n",
    "    if i == 5:\n",
    "        print(\"The condition is verified for the element\", i)\n",
    "    else :\n",
    "        print(\"The condition is not verified for the element\", i)"
   ]
  },
  {
   "cell_type": "code",
   "execution_count": 89,
   "metadata": {},
   "outputs": [
    {
     "name": "stdout",
     "output_type": "stream",
     "text": [
      "['oranges', 'fraises', 'bananes']\n",
      "Therefore, the length of our new list is 3\n"
     ]
    }
   ],
   "source": [
    "# Want display fruits with string length 7 in a list and print it size\n",
    "fruits = ['pommes', 'oranges', 'fraises', 'bananes']\n",
    "new_ls=[]\n",
    "for fruit in fruits:\n",
    "    if len(fruit)==7:\n",
    "        new_ls.append(fruit)\n",
    "print(new_ls)\n",
    "print('Therefore, the length of our new list is',len(new_ls))"
   ]
  },
  {
   "cell_type": "code",
   "execution_count": 35,
   "metadata": {
    "id": "wM8MJQJGcwGP"
   },
   "outputs": [
    {
     "name": "stdout",
     "output_type": "stream",
     "text": [
      "La lettre H est une consonne\n",
      "La lettre e est une voyelle\n",
      "La lettre l est une consonne\n",
      "La lettre l est une consonne\n",
      "La lettre o est une voyelle\n",
      "La lettre   est une consonne\n",
      "La lettre W est une consonne\n",
      "La lettre o est une voyelle\n",
      "La lettre r est une consonne\n",
      "La lettre l est une consonne\n",
      "La lettre d est une consonne\n"
     ]
    }
   ],
   "source": [
    "# Combining a `for...in...` Loop with an `if` Clause\n",
    "mych = \"Hello World\"\n",
    "for lettre in mych :\n",
    "    if lettre in \"AEIOUYaeiouy\":\n",
    "        print ('La lettre', lettre, 'est une voyelle')\n",
    "    else :\n",
    "        print ('La lettre', lettre, 'est une consonne')"
   ]
  },
  {
   "cell_type": "code",
   "execution_count": 36,
   "metadata": {},
   "outputs": [
    {
     "name": "stdout",
     "output_type": "stream",
     "text": [
      "letter G is present.\n",
      "letter o is present.\n",
      "letter o is present.\n",
      "letter d is present.\n",
      "letter   is present.\n",
      "letter m is present.\n",
      "letter o is present.\n",
      "letter r is present.\n",
      "letter n is present.\n",
      "letter i is present.\n",
      "letter n is present.\n",
      "letter g is present.\n",
      "letter , is absent.\n",
      "letter   is present.\n",
      "letter K is absent.\n",
      "letter o is present.\n",
      "letter f is absent.\n",
      "letter i is present.\n"
     ]
    }
   ],
   "source": [
    "Words=\"Good morning, Kofi\"\n",
    "for letter in Words:\n",
    "    if letter in \"Good morning\":\n",
    "        print(f'letter {letter} is present.')\n",
    "    else:\n",
    "        print(f'letter {letter} is absent.')"
   ]
  },
  {
   "cell_type": "code",
   "execution_count": 37,
   "metadata": {
    "id": "_qFv8YY-cwGP"
   },
   "outputs": [
    {
     "name": "stdout",
     "output_type": "stream",
     "text": [
      "The letter H is a consonant\n",
      "The letter e is a vowel\n",
      "The letter l is a consonant\n",
      "The letter l is a consonant\n",
      "The letter o is a vowel\n",
      "This is likely a space\n",
      "The letter W is a consonant\n",
      "The letter o is a vowel\n",
      "The letter r is a consonant\n",
      "The letter l is a consonant\n",
      "The letter d is a consonant\n"
     ]
    }
   ],
   "source": [
    "# Combining a `for...in...` Loop with an `if` Clause\n",
    "# Considering the `space` character\n",
    "mych = \"Hello World\"\n",
    "for letter in mych:\n",
    "    if letter in \"AEIOUYaeiouy\":\n",
    "        print('The letter', letter, 'is a vowel')\n",
    "    elif letter == \" \":\n",
    "        print(\"This is likely a space\")\n",
    "    else:\n",
    "        print('The letter', letter, 'is a consonant')\n"
   ]
  },
  {
   "cell_type": "code",
   "execution_count": 38,
   "metadata": {
    "id": "RyccbzXJcwGP"
   },
   "outputs": [
    {
     "name": "stdout",
     "output_type": "stream",
     "text": [
      "A mangue costs 49 Rwandan francs.\n",
      "A orange costs 99 Rwandan francs.\n",
      "A pomme costs 15 Rwandan francs.\n",
      "A banane costs 32 Rwandan francs.\n"
     ]
    }
   ],
   "source": [
    "fruits = ['mangue', 'orange', 'pomme', 'banane']\n",
    "costs = [49, 99, 15, 32]\n",
    "for fruit, price in zip(fruits, costs):\n",
    "    print(\"A\", fruit, \"costs\", price, \"Rwandan francs.\")\n"
   ]
  },
  {
   "cell_type": "code",
   "execution_count": 95,
   "metadata": {},
   "outputs": [
    {
     "name": "stdout",
     "output_type": "stream",
     "text": [
      "{'mangue': 49, 'orange': 99, 'pomme': 15, 'banane': 32}\n"
     ]
    }
   ],
   "source": [
    "# Creating a dictionary for the two lists below.\n",
    "fruits = ['mangue', 'orange', 'pomme', 'banane']\n",
    "costs = [49, 99, 15, 32]\n",
    "dirt={}\n",
    "for fruit, price in zip(fruits, costs):\n",
    "    dirt[fruit]=price\n",
    "print(dirt)"
   ]
  },
  {
   "cell_type": "code",
   "execution_count": 115,
   "metadata": {
    "id": "QH27OInFcwGP"
   },
   "outputs": [
    {
     "name": "stdout",
     "output_type": "stream",
     "text": [
      "A mangue costs 49 Rwandan francs.\n",
      "A orange costs 99 Rwandan francs.\n",
      "A pomme costs 15 Rwandan francs.\n",
      "A banane costs 32 Rwandan francs.\n"
     ]
    }
   ],
   "source": [
    "costs = {'mangue': 49, 'orange': 99, 'pomme': 15, 'banane': 32}\n",
    "for fruit, price in costs.items():\n",
    "    print(\"A\", fruit, \"costs\", price, \"Rwandan francs.\")\n"
   ]
  },
  {
   "cell_type": "code",
   "execution_count": 161,
   "metadata": {},
   "outputs": [
    {
     "name": "stdout",
     "output_type": "stream",
     "text": [
      "Welcome! Today, we present the vocabulary of the day\n",
      "\t\n",
      "The meaning of the word , veracious is credible .\n",
      "The meaning of the word , mumbo jumbo is hocus-pocus .\n",
      "The meaning of the word , gravitate is approach .\n"
     ]
    }
   ],
   "source": [
    "Vocab={'veracious': 'credible','mumbo jumbo': 'hocus-pocus','gravitate': 'approach'}\n",
    "print('Welcome! Today, we present the vocabulary of the day')\n",
    "print(\"\\t\")\n",
    "for word,meaning in Vocab.items():\n",
    "    \n",
    "    print ('The meaning of the word ,',word,'is' ,meaning,'.')"
   ]
  },
  {
   "cell_type": "markdown",
   "metadata": {
    "id": "0tGc7bKXcwGQ"
   },
   "source": [
    "## 2. List Comprehension\n",
    "\n",
    "In Python, a convenient and expressive syntax for creating lists is provided by list comprehensions. This method allows you to generate lists in a very concise way, often eliminating the need for explicit loops when elements need to be tested or processed before being included in the list.\n",
    "\n",
    "The syntax for defining a list comprehension is similar to the mathematical notation for defining a set comprehension:\n",
    "\n",
    "```python\n",
    "[expression for item in iterable if condition]\n",
    "```\n",
    "\n",
    "Here’s a breakdown of the components:\n",
    "- **`expression`**: The value or transformation to apply to each item.\n",
    "- **`item`**: The variable representing each element in the iterable.\n",
    "- **`iterable`**: The collection or sequence you are iterating over.\n",
    "- **`condition`** (optional): A filter that determines which items to include.\n",
    "\n",
    "**Example:**\n",
    "\n",
    "Suppose you want to create a list of squares for all even numbers between 1 and 10. Using a list comprehension, you can achieve this concisely:\n",
    "\n",
    "```python\n",
    "squares = [x**2 for x in range(1, 11) if x % 2 == 0]\n",
    "print(squares)\n",
    "```\n",
    "\n",
    "**Explanation:**\n",
    "- `x**2` is the expression that computes the square of each item.\n",
    "- `x` is the item variable iterating over the numbers in `range(1, 11)`.\n",
    "- `range(1, 11)` is the iterable providing numbers from 1 to 10.\n",
    "- `if x % 2 == 0` is the condition filtering only even numbers.\n",
    "\n",
    "The output will be:\n",
    "```\n",
    "[4, 16, 36, 64, 100]\n",
    "```\n",
    "\n",
    "This approach is both readable and efficient for generating lists based on specific criteria or transformations."
   ]
  },
  {
   "cell_type": "markdown",
   "metadata": {
    "id": "LfaH112LcwGQ"
   },
   "source": [
    "<center>\n",
    "    <img src=\"images/list-comprehension.png\" width=\"60%\">\n",
    "    </center>"
   ]
  },
  {
   "cell_type": "code",
   "execution_count": 39,
   "metadata": {
    "id": "xkDDMM5qcwGQ"
   },
   "outputs": [
    {
     "name": "stdout",
     "output_type": "stream",
     "text": [
      "[6, 12, 18, 24, 30]\n",
      "================================================\n",
      "\t\n",
      "[[2, 8], [4, 64], [6, 216], [8, 512], [10, 1000]]\n",
      "================================================\n",
      "\t\n",
      "[18, 24, 30]\n",
      "================================================\n",
      "\t\n",
      "[6, 12, 18]\n",
      "================================================\n",
      "\t\n",
      "[0, 2, 4, 0, 4, 8, 0, 6, 12, 0, 8, 16, 0, 10, 20]\n"
     ]
    }
   ],
   "source": [
    "liste = [2, 4, 6, 8, 10]\n",
    "\n",
    "print([3*x for x in liste])\n",
    "print(\"================================================\")\n",
    "print('\\t')\n",
    "\n",
    "print([[x, x**3] for x in liste])\n",
    "print(\"================================================\")\n",
    "print('\\t')\n",
    "\n",
    "print([3*x for x in liste if x > 5])  # filtering with a condition\n",
    "print(\"================================================\")\n",
    "print('\\t')\n",
    "\n",
    "print([3*x for x in liste if x**2 < 50])  # same as above\n",
    "print(\"================================================\")\n",
    "print('\\t')\n",
    "\n",
    "liste2 = list(range(3))\n",
    "print([x*y for x in liste for y in liste2])\n"
   ]
  },
  {
   "cell_type": "code",
   "execution_count": 119,
   "metadata": {},
   "outputs": [
    {
     "name": "stdout",
     "output_type": "stream",
     "text": [
      "[1, 27, 125, 343, 729, 1331, 2197]\n"
     ]
    }
   ],
   "source": [
    "cubes=[x**3 for x in range(1,15) if x%2!=0]\n",
    "print(cubes)"
   ]
  },
  {
   "cell_type": "code",
   "execution_count": 42,
   "metadata": {
    "id": "21z2aX0VcwGQ"
   },
   "outputs": [
    {
     "name": "stdout",
     "output_type": "stream",
     "text": [
      "[2000, 2004, 2008, 2012, 2016, 2020, 2024, 2028, 2032, 2036, 2040, 2044, 2048, 2052, 2056, 2060, 2064, 2068, 2072, 2076, 2080, 2084, 2088, 2092, 2096]\n"
     ]
    }
   ],
   "source": [
    "# Here is an example of an efficient way to get a list of leap years within a given range:\n",
    "leap_years = [year for year in range(2000, 2100) if (year % 4 == 0 and year % 100 != 0) or (year % 400 == 0)]\n",
    "\n",
    "print(leap_years)"
   ]
  },
  {
   "cell_type": "markdown",
   "metadata": {
    "id": "jsp2Gq8tcwGQ"
   },
   "source": [
    "## 3. **Break and Continue statements in `while...` or `for... in...` loops**\n",
    "\n",
    "The reserved keywords `break` and `continue` are used to alter the behavior of `for...in` or `while...` loops. The `break` statement allows for the termination of the loop and the exit from it prematurely, even if the main condition defining the loop remains true. On the other hand, the `continue` statement is used to skip the execution of the remaining instructions in the current iteration of the loop and proceed to the next iteration when the main condition is satisfied. The following examples illustrate their use."
   ]
  },
  {
   "cell_type": "markdown",
   "metadata": {
    "id": "51ZptVblcwGQ"
   },
   "source": [
    "```python\n",
    "# Loop with the break statement\n",
    "for i in range(5):\n",
    "    if i > 2:\n",
    "        break\n",
    "print(i)\n",
    "```"
   ]
  },
  {
   "cell_type": "code",
   "execution_count": 40,
   "metadata": {
    "id": "IBqy8opScwGR"
   },
   "outputs": [
    {
     "name": "stdout",
     "output_type": "stream",
     "text": [
      "3\n"
     ]
    }
   ],
   "source": [
    "for i in range(5):\n",
    "    if i > 2:\n",
    "        break\n",
    "print(i)"
   ]
  },
  {
   "cell_type": "code",
   "execution_count": 125,
   "metadata": {},
   "outputs": [
    {
     "name": "stdout",
     "output_type": "stream",
     "text": [
      "5\n"
     ]
    }
   ],
   "source": [
    "for j in range(16):\n",
    "    if 2*j-1>8:\n",
    "        break\n",
    "print(j)"
   ]
  },
  {
   "cell_type": "markdown",
   "metadata": {
    "id": "RPiHVmKHcwGR"
   },
   "source": [
    "**Explanation:**\n",
    "\n",
    "- The loop iterates over a range of values from 0 to 4.\n",
    "- When `i` becomes greater than 2, the `break` statement is executed, which exits the loop immediately.\n",
    "- Therefore, the loop stops, and the value of `i` at the time the loop is exited is printed. In this case, the output will be `3`."
   ]
  },
  {
   "cell_type": "markdown",
   "metadata": {
    "id": "fMGwfjsxcwGR"
   },
   "source": [
    "\n",
    "```python\n",
    "# Loop with the continue statement\n",
    "for i in range(5):\n",
    "    if i == 2:\n",
    "        continue\n",
    "    print(i)\n",
    "```"
   ]
  },
  {
   "cell_type": "code",
   "execution_count": 41,
   "metadata": {
    "id": "Ji4ikGp5cwGR"
   },
   "outputs": [
    {
     "name": "stdout",
     "output_type": "stream",
     "text": [
      "0\n",
      "1\n",
      "3\n",
      "4\n"
     ]
    }
   ],
   "source": [
    "for i in range(5):\n",
    "    if i == 2:\n",
    "        continue\n",
    "    print(i)"
   ]
  },
  {
   "cell_type": "code",
   "execution_count": 131,
   "metadata": {},
   "outputs": [
    {
     "name": "stdout",
     "output_type": "stream",
     "text": [
      "['banana', 'pineapple', 'pear', 'oranges', 'mangoes']\n"
     ]
    }
   ],
   "source": [
    "food=['banana', 'pineapple','yam','pear','oranges','mangoes']\n",
    "# Want to print a list of fruits above except yam.\n",
    "fruits=[]\n",
    "for fruit in food:\n",
    "    if fruit=='yam':\n",
    "     continue\n",
    "    fruits.append(fruit)\n",
    "print(fruits)"
   ]
  },
  {
   "cell_type": "markdown",
   "metadata": {
    "id": "zIRiVMJ2cwGR"
   },
   "source": [
    "**Explanation:**\n",
    "\n",
    "- The loop iterates over a range of values from 0 to 4.\n",
    "- When `i` equals 2, the `continue` statement is executed. This causes the loop to skip the rest of the code inside the loop for this iteration and proceed to the next iteration.\n",
    "- As a result, `2` is not printed. The output will be `0`, `1`, `3`, and `4`."
   ]
  },
  {
   "cell_type": "markdown",
   "metadata": {
    "id": "5ooSjrCBcwGR"
   },
   "source": [
    "<!--NAVIGATION-->\n",
    "<  [3.Iterable Objects or Containers](03_Lecture03.ipynb)| [ToC](Index.ipynb) | [5.Functions, Modules and Packages](05_Lecture05.ipynb)>\n"
   ]
  }
 ],
 "metadata": {
  "colab": {
   "include_colab_link": true,
   "provenance": []
  },
  "kernelspec": {
   "display_name": "Python 3 (ipykernel)",
   "language": "python",
   "name": "python3"
  },
  "language_info": {
   "codemirror_mode": {
    "name": "ipython",
    "version": 3
   },
   "file_extension": ".py",
   "mimetype": "text/x-python",
   "name": "python",
   "nbconvert_exporter": "python",
   "pygments_lexer": "ipython3",
   "version": "3.12.4"
  }
 },
 "nbformat": 4,
 "nbformat_minor": 4
}

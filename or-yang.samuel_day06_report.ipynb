{
 "cells": [
  {
   "cell_type": "code",
   "execution_count": 104,
   "id": "4c99f77e-aca0-4117-959b-24909c1d057f",
   "metadata": {},
   "outputs": [
    {
     "name": "stdin",
     "output_type": "stream",
     "text": [
      "Enter a number number n: 7\n"
     ]
    },
    {
     "name": "stdout",
     "output_type": "stream",
     "text": [
      "Th sum of the odd terms is 18\n"
     ]
    }
   ],
   "source": [
    "#1.i. Computing the following sum expressions for a natural number n.\n",
    "\n",
    "n=int(input(\"Enter a number number n:\"))\n",
    "sum=0\n",
    "for i in range(n):\n",
    "    if i%2==1:\n",
    "        sum+=i+3\n",
    "print('Th sum of the odd terms is',result)"
   ]
  },
  {
   "cell_type": "code",
   "execution_count": 127,
   "id": "c7c60faa-600e-41cb-a225-42973866521a",
   "metadata": {},
   "outputs": [
    {
     "name": "stdin",
     "output_type": "stream",
     "text": [
      "Enter a number number n: 7\n"
     ]
    },
    {
     "name": "stdout",
     "output_type": "stream",
     "text": [
      "Th product of the even terms is 945\n"
     ]
    }
   ],
   "source": [
    "#1.ii. Computing the following product expressions for a natural number n.\n",
    "n=int(input(\"Enter a number number n:\"))\n",
    "prod=1\n",
    "for i in range(n):\n",
    "    if i%2==0:\n",
    "     prod *= (i+3)\n",
    "\n",
    "print('Th product of the even terms is',prod)"
   ]
  },
  {
   "cell_type": "code",
   "execution_count": 157,
   "id": "c35b7146-a37a-4017-8330-e4c5ef1b531a",
   "metadata": {},
   "outputs": [
    {
     "name": "stdin",
     "output_type": "stream",
     "text": [
      "Enter the number of a day between 0 to 6 : 6\n"
     ]
    },
    {
     "name": "stdout",
     "output_type": "stream",
     "text": [
      "Weekend\n"
     ]
    }
   ],
   "source": [
    "#2 \n",
    "'''Write a program that reads the number of the day of the week (from 0 to 6). If it is a\n",
    " working day, then the program will write the name of the corresponding day. Otherwise,\n",
    " it will write the word \"Weekend\".'''\n",
    "\n",
    "week_day={0:'Sunday',1:'Monday',2:'Tuesday',3:'Wednesday',4:'Thursday',5:'Friday',6:'Saturday'}\n",
    "\n",
    "User_input=int(input(\"Enter the number of a day between 0 to 6 :\"))\n",
    "if User_input!=0 and User_input!=6 :\n",
    "    print('It is a working day')\n",
    "    print(week_day[User_input])\n",
    "else:\n",
    "    print('Weekend')\n",
    "        \n",
    "    "
   ]
  },
  {
   "cell_type": "code",
   "execution_count": 169,
   "id": "ef671d82-1f7e-4624-b8a2-89a7f61d719d",
   "metadata": {},
   "outputs": [
    {
     "name": "stdin",
     "output_type": "stream",
     "text": [
      "Enter the number of a day between 0 to 11 : 0\n"
     ]
    },
    {
     "name": "stdout",
     "output_type": "stream",
     "text": [
      " It has 31 days\n"
     ]
    }
   ],
   "source": [
    "'''3. Make a program that, given a month number (from 0 to 11), indicates how many days it\n",
    " has (28, 30 or 31), ignoring the leap years'''\n",
    "\n",
    "Dir={0:'December',1:'January',2:'February',3:'March',4:'April',5:'May',6:'June',\n",
    "           7:'July',8:'August',9:'September',10:'October',11:'November'}\n",
    "Month1=['January','December','March','July','August','October','November','May']\n",
    "Month2=['April','September','June','November']\n",
    "User_input=int(input(\"Enter the number of a day between 0 to 11 :\"))\n",
    "if Dir[User_input] in Month1:\n",
    "    print(' It has 31 days')\n",
    "elif Dir[User_input] in Month2:\n",
    "    print('It has 30 days')\n",
    "else:\n",
    "    print('It has 28 days')\n"
   ]
  },
  {
   "cell_type": "code",
   "execution_count": null,
   "id": "86b2d93e-b9e5-4d32-9fa7-4ffad348e698",
   "metadata": {},
   "outputs": [],
   "source": [
    "'''Write two versions of python code that displays your name 3 times. One version with a\n",
    " \"for loop\" and another version with a \"while loop\" '''"
   ]
  },
  {
   "cell_type": "code",
   "execution_count": 181,
   "id": "45fff803-222a-44ad-a6ae-9e57b56f9ebc",
   "metadata": {},
   "outputs": [
    {
     "name": "stdin",
     "output_type": "stream",
     "text": [
      "Enter your name here: Samuel Yang\n"
     ]
    },
    {
     "name": "stdout",
     "output_type": "stream",
     "text": [
      "Samuel Yang\n",
      "Samuel Yang\n",
      "Samuel Yang\n"
     ]
    }
   ],
   "source": [
    "#4 a. Using FOR loop for the above program\n",
    "User_name=input('Enter your name here:')\n",
    "for name in range(3):\n",
    "    print(User_name)"
   ]
  },
  {
   "cell_type": "code",
   "execution_count": 5,
   "id": "4218e277-b572-4d51-8b7b-b824794fd456",
   "metadata": {},
   "outputs": [
    {
     "name": "stdin",
     "output_type": "stream",
     "text": [
      "Enter your name here: Samuel Yang\n"
     ]
    },
    {
     "name": "stdout",
     "output_type": "stream",
     "text": [
      "Samuel Yang\n",
      "Samuel Yang\n",
      "Samuel Yang\n"
     ]
    }
   ],
   "source": [
    "#4 b. Using  WHILE loop for the above program\n",
    "User_name=input('Enter your name here:')\n",
    "i=1\n",
    "while i<=3:\n",
    "    print(User_name)\n",
    "    i+=1"
   ]
  },
  {
   "cell_type": "markdown",
   "id": "9b78dc15-2a12-4c30-bb6d-63249846bec3",
   "metadata": {},
   "source": [
    "5.Given two numbers a0 and a1, the Fibonacci sequence they generate is constructed from\n",
    " the recursion formula an+1 = an + an−1. Calculate the first 15 terms of a Fibonacci\n",
    " sequence, asking the user the initial values. a0=an-1 and a1=an"
   ]
  },
  {
   "cell_type": "code",
   "execution_count": null,
   "id": "39d31666-fd25-4655-93bf-4bb52004a4f9",
   "metadata": {},
   "outputs": [],
   "source": [
    "n=int(input('Enter the number of terms:'))\n",
    "a0=int(input('Enter the first generating element:'))\n",
    "a1=int(input('Enter the second generating element:'))\n",
    "print(a0)\n",
    "print(a1)\n",
    "for i in range(2,n):\n",
    "    seq=a0+a1\n",
    "    print(seq)\n",
    "    a0=a1\n",
    "    a1=seq"
   ]
  },
  {
   "cell_type": "markdown",
   "id": "059f1a0a-0219-496c-8f48-763db5e76ab5",
   "metadata": {},
   "source": [
    "6. Compute the first 30 terms of the sequence defined by 2xn+2 −xn+1 −6xn = 0 sequence,\n",
    " given any two initial values x0 and x1\n",
    "The equivalent expression of the above sequence is xn+2=0.5xn+1+3x_n, where x0=xn, x1=xn+1"
   ]
  },
  {
   "cell_type": "code",
   "execution_count": 321,
   "id": "4368ddc4-82c8-4abb-814d-209aa99202a4",
   "metadata": {},
   "outputs": [
    {
     "name": "stdin",
     "output_type": "stream",
     "text": [
      "Enter the number of terms: 30\n",
      "Enter the first generating element: 1\n",
      "Enter the second generating element: 1\n"
     ]
    },
    {
     "name": "stdout",
     "output_type": "stream",
     "text": [
      "1\n",
      "1\n",
      "3.5\n",
      "4.75\n",
      "12.875\n",
      "20.6875\n",
      "48.96875\n",
      "86.546875\n",
      "190.1796875\n",
      "354.73046875\n",
      "747.904296875\n",
      "1438.1435546875\n",
      "2962.78466796875\n",
      "5795.822998046875\n",
      "11786.265502929688\n",
      "23280.60174560547\n",
      "46999.0973815918\n",
      "93341.3539276123\n",
      "187667.96910858154\n",
      "373858.0463371277\n",
      "749932.9304943085\n",
      "1496540.6042585373\n",
      "2998069.093612194\n",
      "5988656.359581709\n",
      "11988535.460627437\n",
      "23960236.809058845\n",
      "47945724.78641173\n",
      "95853572.8203824\n",
      "191763960.7694264\n",
      "383442698.84586036\n"
     ]
    }
   ],
   "source": [
    "# Using FOR loop we have the program\n",
    "n=int(input('Enter the number of terms:'))\n",
    "x0=int(input('Enter the first generating element:'))\n",
    "x1=int(input('Enter the second generating element:'))\n",
    "print(x0)\n",
    "print(x1)\n",
    "for i in range(2,n):\n",
    "    seq=3*x0+0.5*x1\n",
    "    print(seq)\n",
    "    x0=x1\n",
    "    x1=seq"
   ]
  },
  {
   "cell_type": "code",
   "execution_count": 57,
   "id": "76c01f84-6032-4160-bf8c-e7b99c0719a5",
   "metadata": {},
   "outputs": [
    {
     "name": "stdin",
     "output_type": "stream",
     "text": [
      "Enter the number of terms: 30\n",
      "Enter the first generating element: 1\n",
      "Enter the second generating element: 1\n"
     ]
    },
    {
     "name": "stdout",
     "output_type": "stream",
     "text": [
      "1\n",
      "1\n",
      "3.5\n",
      "4.75\n",
      "12.875\n",
      "20.6875\n",
      "48.96875\n",
      "86.546875\n",
      "190.1796875\n",
      "354.73046875\n",
      "747.904296875\n",
      "1438.1435546875\n",
      "2962.78466796875\n",
      "5795.822998046875\n",
      "11786.265502929688\n",
      "23280.60174560547\n",
      "46999.0973815918\n",
      "93341.3539276123\n",
      "187667.96910858154\n",
      "373858.0463371277\n",
      "749932.9304943085\n",
      "1496540.6042585373\n",
      "2998069.093612194\n",
      "5988656.359581709\n",
      "11988535.460627437\n",
      "23960236.809058845\n",
      "47945724.78641173\n",
      "95853572.8203824\n",
      "191763960.7694264\n",
      "383442698.84586036\n"
     ]
    }
   ],
   "source": [
    "# Using FOR WHILe we have the program\n",
    "n=int(input('Enter the number of terms:'))\n",
    "x0=int(input('Enter the first generating element:'))\n",
    "x1=int(input('Enter the second generating element:'))\n",
    "i=1\n",
    "print(x0)\n",
    "print(x1)\n",
    "while (i<=n-2):\n",
    "    seq=3*x0+0.5*x1\n",
    "    print(seq)\n",
    "    x0=x1\n",
    "    x1=seq\n",
    "    i+=1"
   ]
  },
  {
   "cell_type": "markdown",
   "id": "20ee138f-bbc1-4dce-9ef4-80ccf0005adc",
   "metadata": {},
   "source": [
    " Write python code to determine whether or not a year is a leap year. Be sure you\n",
    " know what a leap year is."
   ]
  },
  {
   "cell_type": "code",
   "execution_count": 323,
   "id": "86053f71-88cc-41c3-abe4-3898e0b4ea49",
   "metadata": {},
   "outputs": [
    {
     "name": "stdin",
     "output_type": "stream",
     "text": [
      "Enter any integer different from 0: 3452\n"
     ]
    },
    {
     "name": "stdout",
     "output_type": "stream",
     "text": [
      "3452 is a leap year\n"
     ]
    }
   ],
   "source": [
    "#a)\n",
    "year=int(input('Enter any integer different from 0:'))\n",
    "if (year%4==0 and year%100!=0) or year%400==0:\n",
    "    print(f'{year} is a leap year')\n",
    "else:\n",
    "    print(f'{year} is not a leap year')"
   ]
  },
  {
   "cell_type": "code",
   "execution_count": 87,
   "id": "92285592-730e-4efa-a1d2-49a38bd67d21",
   "metadata": {},
   "outputs": [
    {
     "name": "stdin",
     "output_type": "stream",
     "text": [
      "Enter any integer different from 0: 1900\n"
     ]
    },
    {
     "name": "stdout",
     "output_type": "stream",
     "text": [
      "1900 is not a leap year\n"
     ]
    }
   ],
   "source": [
    "''' b) Write the code using only logical operators, i.e. no conditional branching'''\n",
    "year=int(input('Enter any integer different from 0:'))\n",
    "condition = (year%4==0 and year%100!=0) or year%400==0\n",
    "bool_option = [f'{year} is not a leap year', f'{year} is a leap year']\n",
    "\n",
    "print(bool_option[condition])"
   ]
  },
  {
   "cell_type": "code",
   "execution_count": 111,
   "id": "67197115-fc20-4e97-8c85-c632a943dc63",
   "metadata": {},
   "outputs": [
    {
     "name": "stdin",
     "output_type": "stream",
     "text": [
      "Enter the number of terms n: 3\n"
     ]
    },
    {
     "name": "stdout",
     "output_type": "stream",
     "text": [
      "Sum of the first n squares is  14\n"
     ]
    }
   ],
   "source": [
    "#8\n",
    "''' a) Write python code that computes the sum of the square of the first n natural numbers.\n",
    " One version with a \"for loop\" and another version with a \"while loop\".'''\n",
    "# Using FOR loop to implement the above program\n",
    "n=int(input('Enter the number of terms n:'))\n",
    "sum=0\n",
    "for k in range(1,n+1):\n",
    "    sum+=k**2\n",
    "    \n",
    "print('Sum of the first n squares is ',sum)\n",
    "\n",
    "    "
   ]
  },
  {
   "cell_type": "code",
   "execution_count": 113,
   "id": "eaafc6c9-4ad4-4c71-9a1b-86d57634701d",
   "metadata": {},
   "outputs": [
    {
     "name": "stdin",
     "output_type": "stream",
     "text": [
      "Enter the number of terms n: 3\n"
     ]
    },
    {
     "name": "stdout",
     "output_type": "stream",
     "text": [
      "Sum of the first n squares is  14\n"
     ]
    }
   ],
   "source": [
    "# Using WHILE loop to implement the above program\n",
    "''' a) Write python code that computes the sum of the square of the first n natural numbers.\n",
    " One version with a \"for loop\" and another version with a \"while loop\".'''\n",
    "n=int(input('Enter the number of terms n:'))\n",
    "sum=0\n",
    "k=1\n",
    "while (k<=n):\n",
    "    sum+=k**2\n",
    "    k+=1\n",
    "print('Sum of the first n squares is ',sum)\n"
   ]
  },
  {
   "cell_type": "code",
   "execution_count": 137,
   "id": "13841c81-20f5-4e7f-862c-201910810312",
   "metadata": {},
   "outputs": [
    {
     "name": "stdin",
     "output_type": "stream",
     "text": [
      "Enter a natural number M: 100\n"
     ]
    },
    {
     "name": "stdout",
     "output_type": "stream",
     "text": [
      "The smallest integer is 7\n"
     ]
    }
   ],
   "source": [
    "#8\n",
    "''' b) Write python code that prints, for a natural number M, the smallest natural number\n",
    " n such that 12+22+···+n2 ≥ M. One version with a \"for loop\" and another version\n",
    " with a \"while loop\".'''\n",
    "# Using FOR loop to implement the above program\n",
    "M=int(input('Enter a natural number M:'))\n",
    "sum=0\n",
    "for k in range(1,M):\n",
    "    sum+=k**2\n",
    "    if sum>=M:\n",
    "        print('The smallest integer is',k)\n",
    "        break\n"
   ]
  },
  {
   "cell_type": "code",
   "execution_count": 139,
   "id": "e461efe3-eb87-46c1-87a8-a0d961dfd440",
   "metadata": {},
   "outputs": [
    {
     "name": "stdin",
     "output_type": "stream",
     "text": [
      "Enter a natural number M: 100\n"
     ]
    },
    {
     "name": "stdout",
     "output_type": "stream",
     "text": [
      "The smallest integer is  7\n"
     ]
    }
   ],
   "source": [
    "#8\n",
    "''' b) Write python code that prints, for a natural number M, the smallest natural number\n",
    " n such that 12+22+···+n2 ≥ M. One version with a \"for loop\" and another version\n",
    " with a \"while loop\".'''\n",
    "# Using FOR loop to implement the above program\n",
    "M=int(input('Enter a natural number M:'))\n",
    "sum=0\n",
    "k=1\n",
    "while (sum<M):\n",
    "    sum+=k**2\n",
    "    k+=1\n",
    "print('The smallest integer is ',k-1)\n",
    "\n",
    " "
   ]
  },
  {
   "cell_type": "code",
   "execution_count": 155,
   "id": "edf9d881-4c05-4221-a9ac-cdfeb6ab28e7",
   "metadata": {},
   "outputs": [
    {
     "name": "stdin",
     "output_type": "stream",
     "text": [
      "Enter a natural number : 6\n"
     ]
    },
    {
     "name": "stdout",
     "output_type": "stream",
     "text": [
      "The divisors of 6 is the list below\n",
      " [1, 2, 3, 6]\n"
     ]
    }
   ],
   "source": [
    "#9\n",
    "'''a) Write python code that prints all the divisors of a given natural number.'''\n",
    "N=int(input('Enter a natural number :'))\n",
    "N_divisors=[]\n",
    "for  j in range(1,N+1):\n",
    "    if N%j==0:\n",
    "        N_divisors.append(j)\n",
    "print('The divisors of',N, 'is the list below\\n',N_divisors)"
   ]
  },
  {
   "cell_type": "code",
   "execution_count": 207,
   "id": "6549b2a0-205a-4737-bb4b-39958381b131",
   "metadata": {},
   "outputs": [
    {
     "name": "stdin",
     "output_type": "stream",
     "text": [
      "Enter a natural number : 8\n"
     ]
    },
    {
     "name": "stdout",
     "output_type": "stream",
     "text": [
      "The prime factors of is shown below\n",
      " {2}\n"
     ]
    }
   ],
   "source": [
    "#9\n",
    "'''b) Read an integer number input by the user and calculate its prime factors. This will\n",
    " just be some of its divisors'''\n",
    "N=int(input('Enter a natural number :'))\n",
    "#prime_factors = list()\n",
    "prime_factor = set()\n",
    "for  j in range(2,N+1):\n",
    "    while N%j==0:\n",
    "        #prime_factors.append(j)\n",
    "        prime_factor.add(j)\n",
    "        N=N/j\n",
    "print('The prime factors of is shown below\\n',prime_factor)"
   ]
  },
  {
   "cell_type": "code",
   "execution_count": 189,
   "id": "b8a85989-49ea-4d96-b024-b54289dc28a8",
   "metadata": {},
   "outputs": [
    {
     "name": "stdin",
     "output_type": "stream",
     "text": [
      "Enter an integer betwwen 0 and 9: 5\n",
      "Enter a natural number N: 9\n"
     ]
    },
    {
     "name": "stdout",
     "output_type": "stream",
     "text": [
      "The 5 times table is as shown below:\n",
      "5x0:0\n",
      "5x1:5\n",
      "5x2:10\n",
      "5x3:15\n",
      "5x4:20\n",
      "5x5:25\n",
      "5x6:30\n",
      "5x7:35\n",
      "5x8:40\n",
      "5x9:45\n"
     ]
    }
   ],
   "source": [
    "#10\n",
    "'''Read an integer number between n 0 and 9 and print its multiplication table up to N\n",
    " where N is another another natural number read by the program'''\n",
    "n=int(input('Enter an integer betwwen 0 and 9:'))\n",
    "N=int(input('Enter a natural number N:'))\n",
    "print(f'The {n} times table is as shown below:')\n",
    "for i in range(N+1):\n",
    "    print(f'{n}x{i}:{n*i}')\n"
   ]
  },
  {
   "cell_type": "code",
   "execution_count": 203,
   "id": "369f90c8-49a2-484a-9738-6e79e04d0edc",
   "metadata": {},
   "outputs": [
    {
     "name": "stdout",
     "output_type": "stream",
     "text": [
      "Therefore, the set of all multiples of  3,7 or 11 is \n",
      " {0, 3, 6, 7, 9, 11, 12, 14, 15, 18, 21, 22, 24, 27, 28, 30, 33, 35, 36, 39}\n"
     ]
    }
   ],
   "source": [
    "#11\n",
    "'''Write a program that prints all the numbers between 0 and 40 that are multiples of 3, 7\n",
    " or 11'''\n",
    "n=40\n",
    "Set=set()\n",
    "for k in range(n+1):\n",
    "    if (k%3==0 or k%7==0 or k%11==0):\n",
    "        Set.add(k)\n",
    "print(f'Therefore, the set of all multiples of  {3},{7} or {11} is \\n {Set}')\n",
    "    "
   ]
  },
  {
   "cell_type": "markdown",
   "id": "27e706b0-d4a1-4a97-a549-c777e8d8ff31",
   "metadata": {},
   "source": [
    "12. Write python code that prints the floor of a float x. Recall that the floor of a float x is the\n",
    " largest integer value less than or equal to x, i.e. if E[x] is the floor of x, then it satisfies, E[x] = 1+E[x−1]"
   ]
  },
  {
   "cell_type": "code",
   "execution_count": null,
   "id": "73ee6b3c-e0ce-40e7-b026-17a26985b094",
   "metadata": {},
   "outputs": [],
   "source": [
    "import numpy as np\n",
    "x=float(input('Enter any float number:'))\n",
    "print(\" The value loor value of \",x,'is', np.floor(x))"
   ]
  },
  {
   "cell_type": "markdown",
   "id": "08568b4d-0b6b-4e4b-8315-4eb32971a879",
   "metadata": {},
   "source": [
    "13. Given a point in the plane by its Cartesian coordinates, determine in which quadrant it is\n",
    "(1st, 2nd, 3rd, 4th), if it lies on an axis, or if it is the origin. Do this for several points in\n",
    "the same execution of the program until the user quits."
   ]
  },
  {
   "cell_type": "code",
   "execution_count": 255,
   "id": "f912cca0-3899-4c32-bf54-9b182e8effbc",
   "metadata": {},
   "outputs": [
    {
     "name": "stdin",
     "output_type": "stream",
     "text": [
      "Enter x coordinate:  -3\n",
      "Enter y coordinate:  5\n"
     ]
    },
    {
     "name": "stdout",
     "output_type": "stream",
     "text": [
      " This point, (-3.0, 5.0) lies in the  2nd Quadrant\n"
     ]
    },
    {
     "name": "stdin",
     "output_type": "stream",
     "text": [
      "Do you want to continue? (y/n):  y\n",
      "Enter x coordinate:  2\n",
      "Enter y coordinate:  0\n"
     ]
    },
    {
     "name": "stdout",
     "output_type": "stream",
     "text": [
      " This point, (2.0, 0.0) lies on the x axis\n"
     ]
    },
    {
     "name": "stdin",
     "output_type": "stream",
     "text": [
      "Do you want to continue? (y/n):  y\n",
      "Enter x coordinate:  3\n",
      "Enter y coordinate:  -7\n"
     ]
    },
    {
     "name": "stdout",
     "output_type": "stream",
     "text": [
      " This point, (3.0, -7.0) lies in the  4th Quadrant\n"
     ]
    },
    {
     "name": "stdin",
     "output_type": "stream",
     "text": [
      "Do you want to continue? (y/n):  n\n"
     ]
    },
    {
     "name": "stdout",
     "output_type": "stream",
     "text": [
      "That is enough!\n"
     ]
    }
   ],
   "source": [
    "while True:\n",
    "    x = float(input(\"Enter x coordinate: \"))\n",
    "    y = float(input(\"Enter y coordinate: \"))\n",
    "    \n",
    "    if x > 0 and y > 0:\n",
    "        print(f\" This point, {tuple([x, y])} lies in the  1st Quadrant\")\n",
    "    elif x < 0 and y > 0:\n",
    "         print(f\" This point, {tuple([x, y])} lies in the  2nd Quadrant\")\n",
    "    elif x < 0 and y < 0:\n",
    "         print(f\" This point, {tuple([x, y])} lies in the  3rd Quadrant\")\n",
    "    elif x > 0 and y < 0:\n",
    "         print(f\" This point, {tuple([x, y])} lies in the  4th Quadrant\")\n",
    "    elif x == 0: \n",
    "        print(f\" This point, {tuple([x, y])} lies on y axis\")\n",
    "    elif  y == 0:\n",
    "         print(f\" This point, {tuple([x, y])} lies on the x axis\")\n",
    "\n",
    "    else:\n",
    "       print(f\" This point, {tuple([x, y])} is the origin\") \n",
    "    \n",
    "    quest = input(\"Do you want to continue? (y/n): \")\n",
    "    if quest.lower() != 'y':\n",
    "       \n",
    "        break\n",
    "print('That is enough!')"
   ]
  },
  {
   "cell_type": "markdown",
   "id": "19d29e2e-25aa-4d5c-b1be-5ef722d55c5c",
   "metadata": {},
   "source": [
    "14.Ask for an integer number between 0 and 9, denoted x. Once the user has entered a correct number (that is one in the range [0..10)) the program asks for a second integer number between 0 and 255, denoted max. The program continues asking for the number until it is correct (that it is in the range [0..256)). When this is done, show all multiples of x that are between 0 and max. Then, ask the user whether he/she wbants to continue; if in the affirmative, ask for another couple of numbers, otherwise finishb"
   ]
  },
  {
   "cell_type": "code",
   "execution_count": 315,
   "id": "2b29e772-a5f2-49fb-b7e8-0e6d4d2429ac",
   "metadata": {},
   "outputs": [
    {
     "name": "stdin",
     "output_type": "stream",
     "text": [
      "Enter a number between 0 and 9:  3\n",
      "Enter a number between 0 and 255:  4\n"
     ]
    },
    {
     "name": "stdout",
     "output_type": "stream",
     "text": [
      "Multiples of 3 up to 4:\n",
      "[0, 3]\n"
     ]
    },
    {
     "name": "stdin",
     "output_type": "stream",
     "text": [
      "Do you want to continue? (y/n):  y\n",
      "Enter a number between 0 and 9:  6\n",
      "Enter a number between 0 and 255:  7\n"
     ]
    },
    {
     "name": "stdout",
     "output_type": "stream",
     "text": [
      "Multiples of 6 up to 7:\n",
      "[0, 6]\n"
     ]
    },
    {
     "name": "stdin",
     "output_type": "stream",
     "text": [
      "Do you want to continue? (y/n):  n\n"
     ]
    },
    {
     "name": "stdout",
     "output_type": "stream",
     "text": [
      "Finished!\n"
     ]
    }
   ],
   "source": [
    "while True:\n",
    "    multiples = list()  \n",
    "    while True:\n",
    "        x = int(input(\"Enter a number between 0 and 9: \"))\n",
    "        if 0 <= x <= 9:\n",
    "            break\n",
    "    while True:\n",
    "        max = int(input(\"Enter a number between 0 and 255: \"))  \n",
    "        if 0 <= max <= 255:\n",
    "            break\n",
    "    print(f\"Multiples of {x} up to {max}:\")\n",
    "    for i in range(0, max + 1, x):\n",
    "        multiples.append(i)\n",
    "    print(multiples)\n",
    "    quest = input(\"Do you want to continue? (y/n): \")\n",
    "    if quest.lower() != 'y':\n",
    "        print(\"Finished!\")\n",
    "        break  \n"
   ]
  }
 ],
 "metadata": {
  "kernelspec": {
   "display_name": "Python 3 (ipykernel)",
   "language": "python",
   "name": "python3"
  },
  "language_info": {
   "codemirror_mode": {
    "name": "ipython",
    "version": 3
   },
   "file_extension": ".py",
   "mimetype": "text/x-python",
   "name": "python",
   "nbconvert_exporter": "python",
   "pygments_lexer": "ipython3",
   "version": "3.12.4"
  }
 },
 "nbformat": 4,
 "nbformat_minor": 5
}

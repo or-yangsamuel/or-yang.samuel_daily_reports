{
 "cells": [
  {
   "cell_type": "markdown",
   "id": "946dcae8",
   "metadata": {},
   "source": [
    "# Practical_6: Numpy"
   ]
  },
  {
   "cell_type": "markdown",
   "id": "9d14ff3a-13eb-4268-a84b-5d9a6426bf05",
   "metadata": {},
   "source": [
    "---\n",
    "\n",
    "### Exercise 1:\n",
    "Create a NumPy array of integers from 1 to 10.\n",
    "\n",
    "```python\n",
    "# Exercise 1"
   ]
  },
  {
   "cell_type": "code",
   "execution_count": 3,
   "id": "56711b6d-d56a-4e1f-880e-5467781e86d0",
   "metadata": {},
   "outputs": [
    {
     "name": "stdout",
     "output_type": "stream",
     "text": [
      "[ 1  2  3  4  5  6  7  8  9 10]\n"
     ]
    }
   ],
   "source": [
    "import numpy as np\n",
    "n=10\n",
    "Numpyarray=np.arange(1,n+1)\n",
    "print(Numpyarray)"
   ]
  },
  {
   "cell_type": "markdown",
   "id": "98709560-2789-4ef6-a7bf-9627646bbfd0",
   "metadata": {},
   "source": [
    "```\n",
    "\n",
    "---\n",
    "\n",
    "### Exercise 2:\n",
    "Create a 3x3 NumPy array filled with zeros.\n",
    "\n",
    "```python\n",
    "# Exercise 2"
   ]
  },
  {
   "cell_type": "code",
   "execution_count": 19,
   "id": "62698690-a3d8-486e-9ae2-4061ba9f3d10",
   "metadata": {},
   "outputs": [
    {
     "name": "stdout",
     "output_type": "stream",
     "text": [
      "[[0. 0. 0.]\n",
      " [0. 0. 0.]\n",
      " [0. 0. 0.]]\n"
     ]
    }
   ],
   "source": [
    "Zeromatrix=np.zeros((3,3))\n",
    "print(Zeromatrix)"
   ]
  },
  {
   "cell_type": "markdown",
   "id": "a477d175-eb94-4858-b84e-dae8b7390698",
   "metadata": {},
   "source": [
    "```\n",
    "\n",
    "---\n",
    "\n",
    "### Exercise 3:\n",
    "Create a NumPy array of 10 evenly spaced numbers between 0 and 5.\n",
    "\n",
    "```python\n",
    "# Exercise 3"
   ]
  },
  {
   "cell_type": "code",
   "execution_count": 21,
   "id": "0858b152-06d6-47a7-aac7-b6ed2e4dedbe",
   "metadata": {},
   "outputs": [
    {
     "name": "stdout",
     "output_type": "stream",
     "text": [
      "[0.         0.55555556 1.11111111 1.66666667 2.22222222 2.77777778\n",
      " 3.33333333 3.88888889 4.44444444 5.        ]\n"
     ]
    }
   ],
   "source": [
    "Lins=np.linspace(0,5,10)\n",
    "print(Lins)"
   ]
  },
  {
   "cell_type": "markdown",
   "id": "521f1253-e2aa-4559-b8c4-ee72ec29b691",
   "metadata": {},
   "source": [
    "```\n",
    "\n",
    "---\n",
    "\n",
    "### Exercise 4:\n",
    "Create a 5x5 identity matrix using NumPy.\n",
    "\n",
    "```python\n",
    "# Exercise 4"
   ]
  },
  {
   "cell_type": "code",
   "execution_count": 29,
   "id": "a0e97631-04bd-498f-8663-c56240ded3ae",
   "metadata": {},
   "outputs": [
    {
     "name": "stdout",
     "output_type": "stream",
     "text": [
      "[[1. 0. 0. 0. 0.]\n",
      " [0. 1. 0. 0. 0.]\n",
      " [0. 0. 1. 0. 0.]\n",
      " [0. 0. 0. 1. 0.]\n",
      " [0. 0. 0. 0. 1.]]\n"
     ]
    }
   ],
   "source": [
    "idmatrix=np.eye(5)\n",
    "print(idmatrix)"
   ]
  },
  {
   "cell_type": "markdown",
   "id": "b5867ca0-26e2-49ef-ba8d-c6376f6aa3f4",
   "metadata": {},
   "source": [
    "```\n",
    "\n",
    "---\n",
    "\n",
    "### Exercise 5:\n",
    "Create a 4x4 matrix with random values between 0 and 1.\n",
    "\n",
    "```python\n",
    "# Exercise 5"
   ]
  },
  {
   "cell_type": "code",
   "execution_count": 46,
   "id": "70db0a57-3992-42e2-8e15-744845045427",
   "metadata": {},
   "outputs": [
    {
     "name": "stdout",
     "output_type": "stream",
     "text": [
      "[[0.77132064 0.02075195 0.63364823 0.74880388]\n",
      " [0.49850701 0.22479665 0.19806286 0.76053071]\n",
      " [0.16911084 0.08833981 0.68535982 0.95339335]\n",
      " [0.00394827 0.51219226 0.81262096 0.61252607]]\n",
      "Help on built-in function random:\n",
      "\n",
      "random(...) method of numpy.random.mtrand.RandomState instance\n",
      "    random(size=None)\n",
      "\n",
      "    Return random floats in the half-open interval [0.0, 1.0). Alias for\n",
      "    `random_sample` to ease forward-porting to the new random API.\n",
      "\n"
     ]
    }
   ],
   "source": [
    "np.random.seed(10)\n",
    "mat=np.random.random(((4,4)))\n",
    "print(mat)\n",
    "help(np.random.random)"
   ]
  },
  {
   "cell_type": "code",
   "execution_count": 48,
   "id": "a82b5c4a-578c-42c0-a4f1-97328e009f4a",
   "metadata": {},
   "outputs": [
    {
     "name": "stdout",
     "output_type": "stream",
     "text": [
      "[[0.5488135  0.71518937 0.60276338 0.54488318]\n",
      " [0.4236548  0.64589411 0.43758721 0.891773  ]\n",
      " [0.96366276 0.38344152 0.79172504 0.52889492]\n",
      " [0.56804456 0.92559664 0.07103606 0.0871293 ]]\n"
     ]
    }
   ],
   "source": [
    "np.random.seed(0)\n",
    "mat=np.random.random(((4,4)))\n",
    "print(mat)"
   ]
  },
  {
   "cell_type": "code",
   "execution_count": null,
   "id": "b57b774f-330c-4ff0-ade2-8c0ce4258eee",
   "metadata": {},
   "outputs": [],
   "source": []
  },
  {
   "cell_type": "markdown",
   "id": "b8d828f8-2a73-43cf-b912-c5a620d2627d",
   "metadata": {},
   "source": [
    "```\n",
    "\n",
    "---\n",
    "\n",
    "### Exercise 6:\n",
    "Find the shape of a NumPy array.\n",
    "\n",
    "```python\n",
    "# Exercise 6"
   ]
  },
  {
   "cell_type": "markdown",
   "id": "00bfc7c6-1314-4765-bb3f-aada099e20e9",
   "metadata": {},
   "source": [
    "```\n",
    "\n",
    "---\n",
    "\n",
    "### Exercise 7:\n",
    "Reshape a 1D NumPy array of 16 elements into a 4x4 matrix.\n",
    "\n",
    "```python\n",
    "# Exercise 7"
   ]
  },
  {
   "cell_type": "code",
   "execution_count": 56,
   "id": "8621095f-887e-4fb4-ace6-d6ba0bbf5a36",
   "metadata": {},
   "outputs": [
    {
     "name": "stdout",
     "output_type": "stream",
     "text": [
      "[ 1  2  3  4  5  6  7  8  9 10 11 12 13 14 15 16]\n",
      "[ 1  2  3  4  5  6  7  8  9 10 11 12 13 14 15 16]\n"
     ]
    }
   ],
   "source": [
    "A=np.arange(1,17)\n",
    "print(A)\n",
    "A.reshape((4,4))\n",
    "print(A)"
   ]
  },
  {
   "cell_type": "markdown",
   "id": "802c3022-dc34-4eb3-a787-01489ca80582",
   "metadata": {},
   "source": [
    "```\n",
    "\n",
    "---\n",
    "\n",
    "### Exercise 8:\n",
    "Find the data type of the elements in a NumPy array.\n",
    "\n",
    "```python\n",
    "# Exercise 8"
   ]
  },
  {
   "cell_type": "code",
   "execution_count": 59,
   "id": "98a181f1-10d1-4283-b6a8-654dbf430585",
   "metadata": {},
   "outputs": [
    {
     "data": {
      "text/plain": [
       "dtype('int32')"
      ]
     },
     "execution_count": 59,
     "metadata": {},
     "output_type": "execute_result"
    }
   ],
   "source": [
    "A.dtype"
   ]
  },
  {
   "cell_type": "markdown",
   "id": "91decf20-8d1e-49f4-b5e6-4b583df2d6ce",
   "metadata": {},
   "source": [
    "```\n",
    "\n",
    "---\n",
    "\n",
    "### Exercise 9:\n",
    "Create a NumPy array of integers from 1 to 100 and find all even numbers in the array.\n",
    "\n",
    "```python\n",
    "# Exercise 9"
   ]
  },
  {
   "cell_type": "code",
   "execution_count": 67,
   "id": "7baffa12-f0b2-4ee4-bc78-6dbea8cf503f",
   "metadata": {},
   "outputs": [
    {
     "name": "stdout",
     "output_type": "stream",
     "text": [
      "[  2   4   6   8  10  12  14  16  18  20  22  24  26  28  30  32  34  36\n",
      "  38  40  42  44  46  48  50  52  54  56  58  60  62  64  66  68  70  72\n",
      "  74  76  78  80  82  84  86  88  90  92  94  96  98 100]\n"
     ]
    }
   ],
   "source": [
    "B=np.arange(2,101,2)\n",
    "print(B)"
   ]
  },
  {
   "cell_type": "markdown",
   "id": "8609c147-89f6-409d-97b0-58cc9ba87aca",
   "metadata": {},
   "source": [
    "```\n",
    "\n",
    "---\n",
    "\n",
    "### Exercise 10:\n",
    "Generate a 6x6 matrix of random integers between 10 and 50.\n",
    "\n",
    "```python\n",
    "# Exercise 10"
   ]
  },
  {
   "cell_type": "code",
   "execution_count": 79,
   "id": "6c9fe98f-7560-485d-8f19-96318718ef3e",
   "metadata": {},
   "outputs": [
    {
     "name": "stdout",
     "output_type": "stream",
     "text": [
      "[[48 21 28 37 10 24]\n",
      " [45 22 30 21 14 16]\n",
      " [14 13 22 46 24 25]\n",
      " [30 45 33 25 23 31]\n",
      " [15 45 10 41 15 40]\n",
      " [10 46 44 39 13 44]]\n"
     ]
    }
   ],
   "source": [
    "C=np.random.randint(10,50,(6,6))\n",
    "print(C)"
   ]
  },
  {
   "cell_type": "markdown",
   "id": "1987a8ea-3fc6-4f9b-8e4e-83fdbda7f2bf",
   "metadata": {},
   "source": [
    "```\n",
    "\n",
    "---\n",
    "\n",
    "### Exercise 11:\n",
    "Slice a 2D NumPy array to extract a submatrix.\n",
    "\n",
    "```python\n",
    "# Exercise 11"
   ]
  },
  {
   "cell_type": "code",
   "execution_count": 89,
   "id": "2c206e5a-5087-448f-bab3-a3fdb45b1114",
   "metadata": {},
   "outputs": [
    {
     "name": "stdout",
     "output_type": "stream",
     "text": [
      "[[1 2 3 4]\n",
      " [2 3 4 5]\n",
      " [4 2 6 7]]\n",
      "========================\n",
      "\n",
      "[[2 3 4 5]\n",
      " [4 2 6 7]]\n",
      "========================\n",
      "\n",
      "[[3 4]\n",
      " [2 6]]\n"
     ]
    }
   ],
   "source": [
    "D=np.array([[1,2,3,4],[2,3,4,5],[4,2,6,7]])\n",
    "print(D)\n",
    "E=D[1:3,:]\n",
    "print('========================\\n')\n",
    "print(E)\n",
    "print('========================\\n')\n",
    "F=D[1:3,1:3]\n",
    "print(F)"
   ]
  },
  {
   "cell_type": "markdown",
   "id": "d4b4bb0d-8618-4000-acd4-49349981f0d0",
   "metadata": {},
   "source": [
    "```\n",
    "\n",
    "---\n",
    "\n",
    "### Exercise 12:\n",
    "Calculate the sum of all elements in a NumPy array.\n",
    "\n",
    "```python\n",
    "# Exercise 12"
   ]
  },
  {
   "cell_type": "code",
   "execution_count": 93,
   "id": "25ab44a7-3a75-4178-958e-b7484168649b",
   "metadata": {},
   "outputs": [
    {
     "name": "stdout",
     "output_type": "stream",
     "text": [
      "43\n"
     ]
    }
   ],
   "source": [
    "Sum=np.sum(D)\n",
    "print(Sum)"
   ]
  },
  {
   "cell_type": "markdown",
   "id": "32a2fd2c-7b7c-4597-8780-1710824f7425",
   "metadata": {},
   "source": [
    "```\n",
    "\n",
    "---\n",
    "\n",
    "### Exercise 13:\n",
    "Calculate the mean, median, and standard deviation of a NumPy array.\n",
    "\n",
    "```python\n",
    "# Exercise 13"
   ]
  },
  {
   "cell_type": "code",
   "execution_count": 103,
   "id": "d9696920-81cb-4d7e-b943-42cc17a9c967",
   "metadata": {},
   "outputs": [
    {
     "name": "stdout",
     "output_type": "stream",
     "text": [
      "51.0\n",
      "========================\n",
      "\n",
      "51.0\n",
      "========================\n",
      "\n",
      "28.861739379323623\n"
     ]
    }
   ],
   "source": [
    "Mean=np.mean(B)\n",
    "print(Mean)\n",
    "print('========================\\n')\n",
    "Median=np.median(B)\n",
    "print(Median)\n",
    "print('========================\\n')\n",
    "Standard_dev=np.std(B)\n",
    "print(Standard_dev)"
   ]
  },
  {
   "cell_type": "markdown",
   "id": "c4fcca57-651c-4f24-afbe-5004e093c732",
   "metadata": {},
   "source": [
    "```\n",
    "\n",
    "---\n",
    "\n",
    "### Exercise 14:\n",
    "Find the maximum and minimum values in a NumPy array.\n",
    "\n",
    "```python\n",
    "# Exercise 14"
   ]
  },
  {
   "cell_type": "code",
   "execution_count": 105,
   "id": "b3517087-e7d6-408d-83af-bf3beb9a2610",
   "metadata": {},
   "outputs": [
    {
     "name": "stdout",
     "output_type": "stream",
     "text": [
      "7\n",
      "========================\n",
      "\n",
      "1\n",
      "========================\n",
      "\n"
     ]
    }
   ],
   "source": [
    "Max=np.max(D)\n",
    "print(Max)\n",
    "print('========================\\n')\n",
    "Min=np.min(D)\n",
    "print(Min)\n",
    "print('========================\\n')"
   ]
  },
  {
   "cell_type": "markdown",
   "id": "573e2763-6caf-4bfc-8378-937ff9d7f22d",
   "metadata": {},
   "source": [
    "```\n",
    "\n",
    "---\n",
    "\n",
    "### Exercise 15:\n",
    "Create a NumPy array of 20 random integers and find the index of the maximum value.\n",
    "\n",
    "```python\n",
    "# Exercise 15"
   ]
  },
  {
   "cell_type": "code",
   "execution_count": 139,
   "id": "d53733ad-8e8c-4816-8616-755cbd14e410",
   "metadata": {},
   "outputs": [
    {
     "name": "stdout",
     "output_type": "stream",
     "text": [
      "[[ 6  9 15  3 19]\n",
      " [12 18 17 10  2]\n",
      " [ 1 11  3 12  4]\n",
      " [ 1 17  0  7  4]]\n"
     ]
    }
   ],
   "source": [
    "mat=np.random.randint(0,20,(4,5))\n",
    "print(mat)"
   ]
  },
  {
   "cell_type": "code",
   "execution_count": 149,
   "id": "ff564ce0-3722-437e-bd8e-5abdb4ec163d",
   "metadata": {},
   "outputs": [
    {
     "name": "stdout",
     "output_type": "stream",
     "text": [
      "[4 1 3 1]\n"
     ]
    }
   ],
   "source": [
    "print(np.argmax(mat, axis=1))"
   ]
  },
  {
   "cell_type": "code",
   "execution_count": 151,
   "id": "0ff87c16-7327-496f-8d2c-2c10ac8a212c",
   "metadata": {},
   "outputs": [],
   "source": [
    "#help(np.argmax)"
   ]
  },
  {
   "cell_type": "markdown",
   "id": "6dee8546-7e26-48a2-b97c-71185283a000",
   "metadata": {},
   "source": [
    "```\n",
    "\n",
    "---\n",
    "\n",
    "### Exercise 16:\n",
    "Create a NumPy array and reverse its elements.\n",
    "\n",
    "```python\n",
    "# Exercise 16"
   ]
  },
  {
   "cell_type": "code",
   "execution_count": 165,
   "id": "01469ea2-520e-471a-b7e2-a8061dd58ccd",
   "metadata": {},
   "outputs": [
    {
     "name": "stdout",
     "output_type": "stream",
     "text": [
      "[ 1  2  3  4  5  6  7  8  9 10]\n"
     ]
    },
    {
     "data": {
      "text/plain": [
       "array([10,  9,  8,  7,  6,  5,  4,  3,  2,  1])"
      ]
     },
     "execution_count": 165,
     "metadata": {},
     "output_type": "execute_result"
    }
   ],
   "source": [
    "G=np.arange(1,11)\n",
    "#print(G)\n",
    "#G=G[::-1]\n",
    "print(G)\n",
    "np.flip(G)"
   ]
  },
  {
   "cell_type": "markdown",
   "id": "acdc9a5b-6607-4087-9b4c-a7f86de5a124",
   "metadata": {},
   "source": [
    "```\n",
    "\n",
    "---\n",
    "\n",
    "### Exercise 17:\n",
    "Create a 3x3 matrix and multiply it element-wise by another 3x3 matrix.\n",
    "\n",
    "```python\n",
    "# Exercise 17"
   ]
  },
  {
   "cell_type": "code",
   "execution_count": 169,
   "id": "25cf3e5b-04c5-4c76-8fc7-d5aece8659f3",
   "metadata": {},
   "outputs": [
    {
     "name": "stdout",
     "output_type": "stream",
     "text": [
      "[[ 2  6 12]\n",
      " [ 4 25 18]\n",
      " [35 48 63]]\n"
     ]
    }
   ],
   "source": [
    "mat1=np.array([[1,2,3],[4,5,6],[7,8,9]])\n",
    "mat2=np.array([[2,3,4],[1,5,3],[5,6,7]])\n",
    "prodmat=mat1*mat2\n",
    "print(prodmat)"
   ]
  },
  {
   "cell_type": "markdown",
   "id": "d758c8bd-af07-4e3f-9064-d036bd6bba6a",
   "metadata": {},
   "source": [
    "```\n",
    "\n",
    "---\n",
    "\n",
    "### Exercise 18:\n",
    "Create a diagonal matrix from a given 1D array.\n",
    "\n",
    "```python\n",
    "# Exercise 18"
   ]
  },
  {
   "cell_type": "code",
   "execution_count": 173,
   "id": "0c1319cf-7d52-4d68-a354-676f9fd7be25",
   "metadata": {},
   "outputs": [
    {
     "name": "stdout",
     "output_type": "stream",
     "text": [
      "[[1 0 0 0]\n",
      " [0 2 0 0]\n",
      " [0 0 3 0]\n",
      " [0 0 0 4]]\n"
     ]
    }
   ],
   "source": [
    "Diag=np.diag(np.arange(1,5))\n",
    "print(Diag)"
   ]
  },
  {
   "cell_type": "markdown",
   "id": "6fa3ac66-3df0-4e0f-9d89-e9d0a92ae2b3",
   "metadata": {},
   "source": [
    "```\n",
    "\n",
    "---\n",
    "\n",
    "### Exercise 19:\n",
    "Perform matrix multiplication on two 2D NumPy arrays.\n",
    "\n",
    "```python\n",
    "# Exercise 19"
   ]
  },
  {
   "cell_type": "code",
   "execution_count": 177,
   "id": "2941f79c-d240-4935-b6b9-c8bb4b3cecb2",
   "metadata": {},
   "outputs": [
    {
     "name": "stdout",
     "output_type": "stream",
     "text": [
      "[[ 19  31  31]\n",
      " [ 43  73  73]\n",
      " [ 67 115 115]]\n"
     ]
    }
   ],
   "source": [
    "result=mat1.dot(mat2)\n",
    "print(result)"
   ]
  },
  {
   "cell_type": "markdown",
   "id": "538845f0-fea6-4031-9201-7c88a3eec21c",
   "metadata": {},
   "source": [
    "```\n",
    "\n",
    "---\n",
    "\n",
    "### Exercise 20:\n",
    "Flatten a 2D NumPy array into a 1D array.\n",
    "\n",
    "```python\n",
    "# Exercise 20"
   ]
  },
  {
   "cell_type": "code",
   "execution_count": 185,
   "id": "268d1804-12a4-46a6-a44e-e68ae1a60e1a",
   "metadata": {},
   "outputs": [
    {
     "name": "stdout",
     "output_type": "stream",
     "text": [
      "[ 19  31  31  43  73  73  67 115 115]\n"
     ]
    }
   ],
   "source": [
    "resmat=result.flatten()\n",
    "print(resmat)"
   ]
  },
  {
   "cell_type": "markdown",
   "id": "01df1eea-228e-46e6-a74c-7ab6204b7a0c",
   "metadata": {},
   "source": [
    "```\n",
    "\n",
    "---\n",
    "\n",
    "### Exercise 21:\n",
    "Stack two NumPy arrays vertically.\n",
    "\n",
    "```python\n",
    "# Exercise 21"
   ]
  },
  {
   "cell_type": "code",
   "execution_count": 193,
   "id": "8b6ca305-9514-4e6b-a04d-eff5be0a7bbc",
   "metadata": {},
   "outputs": [
    {
     "name": "stdout",
     "output_type": "stream",
     "text": [
      "[[2 3 4]\n",
      " [1 3 5]]\n"
     ]
    }
   ],
   "source": [
    "v1=np.array([2,3,4])\n",
    "v2=np.array([1,3,5])\n",
    "v3=np.vstack((v1,v2))\n",
    "print(v3)"
   ]
  },
  {
   "cell_type": "markdown",
   "id": "1339e19e-af76-41e6-955f-c795f6bda631",
   "metadata": {},
   "source": [
    "```\n",
    "\n",
    "---\n",
    "\n",
    "### Exercise 22:\n",
    "Stack two NumPy arrays horizontally.\n",
    "\n",
    "```python\n",
    "# Exercise 22"
   ]
  },
  {
   "cell_type": "code",
   "execution_count": 197,
   "id": "f7a10bdf-f6bc-44ed-8ceb-2c4c73eb18c0",
   "metadata": {},
   "outputs": [
    {
     "name": "stdout",
     "output_type": "stream",
     "text": [
      "[2 3 4 1 3 5]\n"
     ]
    }
   ],
   "source": [
    "v4=np.hstack((v1,v2))\n",
    "print(v4)"
   ]
  },
  {
   "cell_type": "markdown",
   "id": "73023461-87cd-44ad-a94c-47441a18aa7f",
   "metadata": {},
   "source": [
    "```\n",
    "\n",
    "---\n",
    "\n",
    "### Exercise 23:\n",
    "Split a NumPy array into multiple sub-arrays.\n",
    "\n",
    "```python\n",
    "# Exercise 23"
   ]
  },
  {
   "cell_type": "code",
   "execution_count": 217,
   "id": "cf24e5ae-b031-4476-9f17-bf974f3af483",
   "metadata": {},
   "outputs": [
    {
     "name": "stdout",
     "output_type": "stream",
     "text": [
      "==================\n",
      "\n",
      "[array([0, 1]), array([2, 3]), array([4, 5])]\n",
      "==================\n",
      "\n",
      "[array([0, 1]), array([2, 3]), array([4, 5]), array([6])]\n"
     ]
    }
   ],
   "source": [
    "array1=np.arange(6)\n",
    "''' This split array into multiples sub arrays of equal size'''\n",
    "array1_splt=np.split(array1,3)\n",
    "print('==================\\n')\n",
    "print(array1_splt)\n",
    "''' This split array into multiples sub arrays of unequal size'''\n",
    "array1=np.arange(7)\n",
    "array2_splt=np.array_split(array1,4)\n",
    "print('==================\\n')\n",
    "print(array2_splt)"
   ]
  },
  {
   "cell_type": "markdown",
   "id": "23da119b-1839-49ef-8335-c08f7b04d07e",
   "metadata": {},
   "source": [
    "```\n",
    "\n",
    "---\n",
    "\n",
    "### Exercise 24:\n",
    "Generate a random NumPy array and round each element to two decimal places.\n",
    "\n",
    "```python\n",
    "# Exercise 24"
   ]
  },
  {
   "cell_type": "code",
   "execution_count": 227,
   "id": "9670c9f5-67b5-415a-a935-0a76052598a5",
   "metadata": {},
   "outputs": [
    {
     "name": "stdout",
     "output_type": "stream",
     "text": [
      "[0.28 0.13 0.39 0.96 0.19 0.9  0.54 0.46 0.88 0.46]\n"
     ]
    }
   ],
   "source": [
    "Array=np.round(np.random.random(10),2)\n",
    "print(Array)"
   ]
  },
  {
   "cell_type": "markdown",
   "id": "0beadf00-681e-41a2-8cdd-ee0bfd398ebf",
   "metadata": {},
   "source": [
    "```\n",
    "\n",
    "---\n",
    "\n",
    "### Exercise 25:\n",
    "Find the unique elements of a NumPy array.\n",
    "\n",
    "```python\n",
    "# Exercise 25"
   ]
  },
  {
   "cell_type": "code",
   "execution_count": 233,
   "id": "a04f3b24-56a1-4667-ad32-738cfd857ce6",
   "metadata": {},
   "outputs": [
    {
     "name": "stdout",
     "output_type": "stream",
     "text": [
      "[2 3 4 5 6 7 8 9]\n"
     ]
    }
   ],
   "source": [
    "# Finding a unique element of a given Numpy array\n",
    "data=np.array([2,3,3,4,5,6,7,7,8,4,9])\n",
    "Unique=np.unique(data)\n",
    "print(Unique)"
   ]
  },
  {
   "cell_type": "markdown",
   "id": "a3c71864-1321-40a5-b444-839736a64f21",
   "metadata": {},
   "source": [
    "```\n",
    "\n",
    "---\n",
    "\n",
    "### Exercise 26:\n",
    "Replace all elements in a NumPy array that are less than a specific value with that value.\n",
    "\n",
    "```python\n",
    "# Exercise 26"
   ]
  },
  {
   "cell_type": "code",
   "execution_count": 247,
   "id": "de5ec672-735b-4bce-aa57-9fd3643ec9c2",
   "metadata": {},
   "outputs": [
    {
     "name": "stdout",
     "output_type": "stream",
     "text": [
      "[4 4 4 4 5 6 7 7 8 4 9]\n"
     ]
    }
   ],
   "source": [
    "data[data<4]=4\n",
    "print(data)"
   ]
  },
  {
   "cell_type": "markdown",
   "id": "96d3fbec-c5c8-44d8-8efa-5e366c5c9f1b",
   "metadata": {},
   "source": [
    "```\n",
    "\n",
    "---\n",
    "\n",
    "### Exercise 27:\n",
    "Find the cumulative sum of the elements in a NumPy array.\n",
    "\n",
    "```python\n",
    "# Exercise 27"
   ]
  },
  {
   "cell_type": "code",
   "execution_count": 249,
   "id": "33c91785-5d22-4e63-891e-918f5d940d92",
   "metadata": {},
   "outputs": [
    {
     "name": "stdout",
     "output_type": "stream",
     "text": [
      "[  1   3   6  10  15  21  28  36  45  55  66  78  91 105 120 136 153 171\n",
      " 190 210]\n"
     ]
    }
   ],
   "source": [
    "Data=np.arange(1,21)\n",
    "res=np.cumsum(Data)\n",
    "print(res)"
   ]
  },
  {
   "cell_type": "code",
   "execution_count": 253,
   "id": "8d4161a6-2fea-472d-a229-40faa8edbb8c",
   "metadata": {},
   "outputs": [],
   "source": [
    "#help(np.cumsum)"
   ]
  },
  {
   "cell_type": "markdown",
   "id": "d927b61a-0211-4f30-b30c-7698f00df716",
   "metadata": {},
   "source": [
    "```\n",
    "\n",
    "---\n",
    "\n",
    "### Exercise 28:\n",
    "Create a NumPy array and find the number of non-zero elements in it.\n",
    "\n",
    "```python\n",
    "# Exercise 28"
   ]
  },
  {
   "cell_type": "code",
   "execution_count": 271,
   "id": "78156634-2d22-437a-99b7-c23a643604ad",
   "metadata": {},
   "outputs": [
    {
     "name": "stdout",
     "output_type": "stream",
     "text": [
      "9\n"
     ]
    }
   ],
   "source": [
    "h=np.eye(9)\n",
    "Nz=np.count_nonzero(h)\n",
    "print(Nz)"
   ]
  },
  {
   "cell_type": "code",
   "execution_count": 273,
   "id": "bce257bf-6724-419d-ae76-2a67228cf9d4",
   "metadata": {},
   "outputs": [],
   "source": [
    "#help(np.count_nonzero)"
   ]
  },
  {
   "cell_type": "markdown",
   "id": "072f81ca-0cbf-4eca-9b89-9d6702389f3a",
   "metadata": {},
   "source": [
    "```\n",
    "\n",
    "---\n",
    "\n",
    "### Exercise 29:\n",
    "Create a NumPy array of random integers and sort it in ascending order.\n",
    "\n",
    "```python\n",
    "# Exercise 29"
   ]
  },
  {
   "cell_type": "code",
   "execution_count": 281,
   "id": "ddca7fd5-d921-4eca-9a26-daf360b28c06",
   "metadata": {},
   "outputs": [
    {
     "name": "stdout",
     "output_type": "stream",
     "text": [
      "[0.45722345 0.45813883 0.57575116 0.59098417 0.79639147 0.82076712\n",
      " 0.85772264 0.90884372 0.95187448 0.9591666 ]\n"
     ]
    }
   ],
   "source": [
    "M=np.random.random(10)\n",
    "#print(M)\n",
    "SortM=np.sort(M)\n",
    "print(SortM)"
   ]
  },
  {
   "cell_type": "code",
   "execution_count": 277,
   "id": "24b7786c-3cba-4a54-bc31-b81db7d26b30",
   "metadata": {},
   "outputs": [],
   "source": [
    "#help(np.sort)"
   ]
  },
  {
   "cell_type": "markdown",
   "id": "63a92344-26f3-4235-9973-d48caf7e8c28",
   "metadata": {},
   "source": [
    "```\n",
    "\n",
    "---\n",
    "\n",
    "### Exercise 30:\n",
    "Find the row-wise and column-wise sum of a 3x3 matrix.\n",
    "\n",
    "```python\n",
    "# Exercise 30"
   ]
  },
  {
   "cell_type": "code",
   "execution_count": 285,
   "id": "8f9183f5-fd4f-42ea-b9b9-b1b64b82f21f",
   "metadata": {},
   "outputs": [
    {
     "name": "stdout",
     "output_type": "stream",
     "text": [
      "row-wise sum: [12 11 20]\n",
      "======================\n",
      "\n",
      "column-wise sum: [12 17 14]\n"
     ]
    }
   ],
   "source": [
    "Mat=np.array([[2,4,6],[1,7,3],[9,6,5]])\n",
    "row_sum=np.sum(Mat,axis=1)\n",
    "print(f'row-wise sum: {row_sum}')\n",
    "print('======================\\n')\n",
    "col_sum=np.sum(Mat,axis=0)\n",
    "print(f'column-wise sum: {col_sum}')"
   ]
  },
  {
   "cell_type": "markdown",
   "id": "2820b9ef-ce53-40ec-95f3-ea92b1e48db5",
   "metadata": {},
   "source": [
    "```\n",
    "\n",
    "---\n",
    "\n",
    "### Exercise 31:\n",
    "Generate a 2D NumPy array with random values and normalize it (scale the values between 0 and 1).\n",
    "\n",
    "```python\n",
    "# Exercise 31"
   ]
  },
  {
   "cell_type": "code",
   "execution_count": 329,
   "id": "a57df107-a2fa-4c99-b93c-0a1db1391406",
   "metadata": {},
   "outputs": [
    {
     "name": "stdout",
     "output_type": "stream",
     "text": [
      "[[0.33333333 1.         0.         0.66666667]\n",
      " [0.33333333 0.66666667 1.         0.33333333]\n",
      " [0.66666667 0.         0.66666667 0.        ]]\n"
     ]
    }
   ],
   "source": [
    "Array=np.random.randint(1,5,size=(3,4))\n",
    "#print(Array)\n",
    "normalized_Array=(Array-np.min(Array))/(np.max(Array)-np.min(Array))\n",
    "print(normalized_Array)"
   ]
  },
  {
   "cell_type": "markdown",
   "id": "128064ed-8d84-41a6-a98d-0ec85b3eb7d3",
   "metadata": {},
   "source": [
    "```\n",
    "\n",
    "---\n",
    "\n",
    "### Exercise 32:\n",
    "Create two NumPy arrays and find the dot product.\n",
    "\n",
    "```python\n",
    "# Exercise 32"
   ]
  },
  {
   "cell_type": "code",
   "execution_count": 333,
   "id": "2024387a-cf0e-491e-beec-4c17701e1235",
   "metadata": {},
   "outputs": [
    {
     "name": "stdout",
     "output_type": "stream",
     "text": [
      "114\n"
     ]
    }
   ],
   "source": [
    "v1=np.array([1,2,4,5,6])\n",
    "v2=np.array([3,4,5,7,8])\n",
    "v=np.dot(v1,v2)\n",
    "print(v)"
   ]
  },
  {
   "cell_type": "markdown",
   "id": "c0659b7f-0b9b-4ac7-9606-0b51651fd339",
   "metadata": {},
   "source": [
    "```\n",
    "\n",
    "---\n",
    "\n",
    "### Exercise 33:\n",
    "Find the trace of a square NumPy matrix.\n",
    "\n",
    "```python\n",
    "# Exercise 33"
   ]
  },
  {
   "cell_type": "code",
   "execution_count": 337,
   "id": "78850a8b-ff73-4ffa-81ef-7a30421313d8",
   "metadata": {},
   "outputs": [
    {
     "name": "stdout",
     "output_type": "stream",
     "text": [
      "15\n"
     ]
    }
   ],
   "source": [
    "Mat=np.array([[1,2,3],[4,5,6],[7,8,9]])\n",
    "Tr=np.trace(Mat)\n",
    "print(Tr)"
   ]
  },
  {
   "cell_type": "markdown",
   "id": "16b0e4db-0a83-4e41-841d-e359e01d08d9",
   "metadata": {},
   "source": [
    "```\n",
    "\n",
    "---\n",
    "\n",
    "### Exercise 34:\n",
    "Create a 2D array and swap two rows.\n",
    "\n",
    "```python\n",
    "# Exercise 34"
   ]
  },
  {
   "cell_type": "code",
   "execution_count": 339,
   "id": "79ef2fba-8471-4e59-b9ca-27d48147f748",
   "metadata": {},
   "outputs": [
    {
     "name": "stdout",
     "output_type": "stream",
     "text": [
      "[[1 4 7]\n",
      " [2 5 8]\n",
      " [3 6 9]]\n"
     ]
    }
   ],
   "source": [
    "Mat=np.array([[1,2,3],[4,5,6],[7,8,9]])\n",
    "Mat_swap=np.transpose(Mat)\n",
    "print(Mat_swap)"
   ]
  },
  {
   "cell_type": "markdown",
   "id": "d36b494e-5ce4-4dea-92d1-36db7fafe76c",
   "metadata": {},
   "source": [
    "```\n",
    "\n",
    "---\n",
    "\n",
    "### Exercise 35:\n",
    "Create a 1D NumPy array and convert it into a column vector.\n",
    "\n",
    "```python\n",
    "# Exercise 35"
   ]
  },
  {
   "cell_type": "code",
   "execution_count": 343,
   "id": "fe938af9-ff3a-4db6-a92e-0f7888838fdc",
   "metadata": {},
   "outputs": [
    {
     "name": "stdout",
     "output_type": "stream",
     "text": [
      "[[1]\n",
      " [2]\n",
      " [3]\n",
      " [4]\n",
      " [5]]\n"
     ]
    }
   ],
   "source": [
    "Array=np.array([1,2,3,4,5])\n",
    "col_vec=Array.reshape(-1,1)\n",
    "print(col_vec)"
   ]
  },
  {
   "cell_type": "markdown",
   "id": "e07f9d63-80f5-424e-9611-8417b715e811",
   "metadata": {},
   "source": [
    "```\n",
    "\n",
    "---\n",
    "\n",
    "### Exercise 36:\n",
    "Find the determinant of a 3x3 matrix.\n",
    "\n",
    "```python\n",
    "# Exercise 36\n",
    "```\n",
    "\n",
    "---\n",
    "\n",
    "### Exercise 37:\n",
    "Find the eigenvalues and eigenvectors of a 2x2 matrix.\n",
    "\n",
    "```python\n",
    "# Exercise 37\n",
    "```\n",
    "\n",
    "---\n",
    "\n",
    "### Exercise 38:\n",
    "Solve a system of linear equations using NumPy.\n",
    "\n",
    "```python\n",
    "# Exercise 38\n",
    "```\n",
    "\n",
    "---\n",
    "\n",
    "### Exercise 39:\n",
    "Add Gaussian noise to a NumPy array.\n",
    "\n",
    "```python\n",
    "# Exercise 39\n",
    "```\n",
    "\n",
    "---\n",
    "\n",
    "### Exercise 40:\n",
    "Create a 4x4 matrix and extract the diagonal elements.\n",
    "\n",
    "```python\n",
    "# Exercise 40\n",
    "```\n",
    "\n",
    "---\n",
    "\n",
    "### Exercise 41:\n",
    "Generate a NumPy array of 100 random values and clip the values to a range between 10 and 50.\n",
    "\n",
    "```python\n",
    "# Exercise 41\n",
    "```\n",
    "\n",
    "---\n",
    "\n",
    "### Exercise 42:\n",
    "Create a 2D NumPy array and replace all negative values with zero.\n",
    "\n",
    "```python\n",
    "# Exercise 42\n",
    "```\n",
    "\n",
    "---\n",
    "\n",
    "### Exercise 43:\n",
    "Find the inner and outer products of two NumPy arrays.\n",
    "\n",
    "```python\n",
    "# Exercise 43\n",
    "```\n",
    "\n",
    "---\n",
    "\n",
    "### Exercise 44:\n",
    "Calculate the pairwise distances between points in a NumPy array.\n",
    "\n",
    "```python\n",
    "# Exercise 44\n",
    "```\n",
    "\n",
    "---\n",
    "\n",
    "### Exercise 45:\n",
    "Create a structured NumPy array with fields for `name`, `age`, and `height`.\n",
    "\n",
    "```python\n",
    "# Exercise 45\n",
    "```\n",
    "\n",
    "---\n",
    "\n",
    "### Exercise 46:\n",
    "Create a 5x5 matrix of random integers and count the occurrences of each unique value.\n",
    "\n",
    "```python\n",
    "# Exercise 46\n",
    "```\n",
    "\n",
    "---\n",
    "\n",
    "### Exercise 47:\n",
    "Generate a random 3x3 NumPy array and subtract the mean of each row from the corresponding row.\n",
    "\n",
    "```python\n",
    "# Exercise 47\n",
    "```\n",
    "\n",
    "---\n",
    "\n",
    "### Exercise 48:\n",
    "Create a NumPy array of random integers and check if any of the values are greater than 50.\n",
    "\n",
    "```python\n",
    "# Exercise 48\n",
    "```\n",
    "\n",
    "---\n",
    "\n",
    "### Exercise 49:\n",
    "Calculate the moving average of a 1D NumPy array.\n",
    "\n",
    "```python\n",
    "# Exercise 49\n",
    "```\n",
    "\n",
    "---\n",
    "\n",
    "### Exercise 50:\n",
    "Find the Pearson correlation coefficient between two NumPy arrays.\n",
    "\n",
    "```python\n",
    "# Exercise 50\n",
    "```\n",
    "\n",
    "---\n",
    "\n",
    "### Exercise 51:\n",
    "Convert a NumPy array of radians to degrees.\n",
    "\n",
    "```python\n",
    "# Exercise 51\n",
    "```\n",
    "\n",
    "---\n",
    "\n",
    "### Exercise 52:\n",
    "Create a random NumPy array and compute its variance and standard deviation.\n",
    "\n",
    "```python\n",
    "# Exercise 52\n",
    "```\n",
    "\n",
    "---\n",
    "\n",
    "### Exercise 53:\n",
    "Create a 2D NumPy array and find the indices of the maximum values along each axis.\n",
    "\n",
    "```python\n",
    "# Exercise 53\n",
    "```\n",
    "\n",
    "---\n",
    "\n",
    "### Exercise 54:\n",
    "Compute the inverse of a 2x2 NumPy matrix.\n",
    "\n",
    "```python\n",
    "# Exercise 54\n",
    "```\n",
    "\n",
    "---\n",
    "\n",
    "### Exercise 55:\n",
    "Create a NumPy array of 10 random values and standardize it (mean 0, variance 1).\n",
    "\n",
    "```python\n",
    "# Exercise 55\n",
    "```\n",
    "\n",
    "---\n",
    "\n",
    "### Exercise 56:\n",
    "Perform element-wise addition and subtraction on two NumPy arrays.\n",
    "\n",
    "```python\n",
    "# Exercise 56\n",
    "```\n",
    "\n",
    "---\n",
    "\n",
    "### Exercise 57:\n",
    "Create a NumPy array of random values and find the maximum element's index.\n",
    "\n",
    "```python\n",
    "# Exercise 57\n",
    "```\n",
    "\n",
    "---\n",
    "\n",
    "### Exercise 58:\n",
    "Create a 3x3 NumPy array and rotate it by 90 degrees.\n",
    "\n",
    "```python\n",
    "# Exercise 58\n",
    "```\n",
    "\n",
    "---\n",
    "\n",
    "### Exercise 59:\n",
    "Compute the Frobenius norm of a matrix.\n",
    "\n",
    "```python\n",
    "# Exercise 59\n",
    "```\n",
    "\n",
    "---\n",
    "\n",
    "### Exercise 60:\n",
    "Create a 3D NumPy array and slice out a subarray.\n",
    "\n",
    "```python\n",
    "# Exercise 60\n",
    "```\n",
    "\n",
    "---"
   ]
  },
  {
   "cell_type": "code",
   "execution_count": null,
   "id": "d6a4a674-1c01-4224-a110-678251036298",
   "metadata": {},
   "outputs": [],
   "source": []
  }
 ],
 "metadata": {
  "kernelspec": {
   "display_name": "Python 3 (ipykernel)",
   "language": "python",
   "name": "python3"
  },
  "language_info": {
   "codemirror_mode": {
    "name": "ipython",
    "version": 3
   },
   "file_extension": ".py",
   "mimetype": "text/x-python",
   "name": "python",
   "nbconvert_exporter": "python",
   "pygments_lexer": "ipython3",
   "version": "3.12.4"
  }
 },
 "nbformat": 4,
 "nbformat_minor": 5
}

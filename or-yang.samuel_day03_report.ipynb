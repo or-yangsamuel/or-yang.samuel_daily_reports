{
 "cells": [
  {
   "cell_type": "markdown",
   "metadata": {
    "id": "vuZYRaBzbIcs"
   },
   "source": [
    "## Practical 1: Version Control with Git: `local` "
   ]
  },
  {
   "cell_type": "markdown",
   "metadata": {},
   "source": [
    "<left> <b> <span style=\"color:red;\"> \n",
    "This notebook is focused on version control with a local repository. You are expected to go through it line by line, step by step. Execute each code cell and follow the instructions to understand how to manage version control locally. Experiment with commands, make changes, and observe how they affect your repository. Your hands-on interaction with the examples will enhance your comprehension of local version control practices.\n",
    "</span> </b></left>\n",
    "\n",
    "\n",
    "## You might find [this reference](https://ndpsoftware.com/git-cheatsheet.html#loc=index;) ,   [this command list](https://git-scm.com/docs) as well as  this [resource](https://git-scm.com/docs/gittutorial) very useful for this practical."
   ]
  },
  {
   "cell_type": "markdown",
   "metadata": {
    "id": "be02507b"
   },
   "source": [
    "### What is Version Control ?\n",
    "\n",
    "\n",
    "In software development, revision control systems (RCS) are essential tools. They are widely used across all development environments and by developers everywhere.\n",
    "\n",
    "RCS are versatile and not limited to just software projects; they are also invaluable for managing various types of digital content, including manuscripts, figures, data, and notebooks.\n",
    "\n",
    "Revision control systems (RCS) serve two primary purposes:\n",
    "\n",
    "1. **Track Changes in Source Code:**\n",
    "   - Enable tracking and managing changes to the source code.\n",
    "   - Allow reverting to previous versions if issues arise.\n",
    "   - Support working on multiple \"branches\" of the software at the same time.\n",
    "   - Use tags to identify and manage different versions, such as \"release-1.0\" or \"paper-A-final.\"\n",
    "\n",
    "2. **Facilitate Collaborative Development:**\n",
    "   - Allow multiple contributors to work on the same codebase simultaneously.\n",
    "   - Enable numerous authors to make and integrate changes.\n",
    "   - Provide clear communication and visualization of changes to all team members.\n",
    "\n",
    "\n",
    "\n",
    "\n",
    "### Basic Principles and Terminology of Revision Control Systems (RCS)\n",
    "\n",
    "In an RCS, source code or digital content is managed within a repository.\n",
    "\n",
    "- **Repository:** Stores not only the latest version of files but also the complete history of all changes made to these files since their initial addition to the repository.\n",
    "\n",
    "- **Checkout:** Users obtain a local working copy of the files from the repository. Changes are made to these local files, allowing for additions, deletions, and updates.\n",
    "\n",
    "- **Commit:** After completing a task, changes made to the local files are saved back to the repository.\n",
    "\n",
    "- **Conflict Resolution:** If changes have been made by others to the same files, conflicts may arise. The system often resolves conflicts automatically, but manual intervention may be necessary to merge conflicting changes.\n",
    "\n",
    "- **Branches and Forks:** For larger experimental developments, it’s common to create a new branch, fork, or clone of the repository. The primary branch is usually called `master` or `trunk`. Once work on a branch or fork is finished, it can be merged back into the main branch or repository.\n",
    "\n",
    "- **Distributed RCS:** Systems like Git or Mercurial allow for pulling and pushing changesets between different repositories. For instance, changes can be pushed from a local repository to a central online repository, such as those hosted on platforms like GitHub.\n",
    "\n",
    "\n",
    "In a few words, **version control** is a way to keep a backup of the changes in your\n",
    "files and to store a history of those changes.  The key charateristic of VC is that and it\n",
    "allows many people in a collaboration to make changes to the same files\n",
    "concurrently. VC is done via a VC system and there are a lot of them. [Wikipedia](https://en.wikipedia.org/wiki/Version_control)\n",
    "provides both a nice vocabulary list and a fairly complete table of some\n",
    "popular version control systems and their equivalent commands.\n",
    "\n",
    "\n",
    "\n",
    "### Popular Revision Control Systems\n",
    "\n",
    "- **Git (git):** [http://git-scm.com/](http://git-scm.com/)\n",
    "- **Mercurial (hg):** [http://mercurial.selenic.com/](http://mercurial.selenic.com/)\n",
    "\n",
    "In the remainder of this lecture, we will focus on Git. However, Mercurial is equally effective and operates in a very similar manner.\n",
    "\n",
    "We'll be using git. `Git` is an example of a distributed version control system, distinct from centralized versing control systems. I'll not discuss the distinction, but for now, the table below will\n",
    "suffice.\n",
    "\n",
    "Version Control System Tool Options\n",
    "\n",
    "- **Distributed** \n",
    "  - Decentralized CVS (dcvs)  \n",
    "  - mercurial (hg)\n",
    "  - git (git) \n",
    "  - bazaar (bzr)\n",
    "  \n",
    "- **Centralized**\n",
    "  - concurrent versions system (cvs)\n",
    "  - subversion (svn)"
   ]
  },
  {
   "cell_type": "markdown",
   "metadata": {},
   "source": [
    "## git --help : Getting Help\n",
    "\n",
    "The first thing you should know about any **tool** is how to get **help**. From the command line type\n",
    "\n",
    "```bash\n",
    "$ man git\n",
    "```\n",
    "\n",
    "If you remember from the **shell class**, **man** tells you more about a command and how to use it. The manual entry for the git version control system will appear before you. You may scroll through it using arrows, or you can search for\n",
    "keywords by typing **/** followed by the search term. I'm interested in help, so I type **/help** and then hit enter. It looks like the syntax for getting help with git is **git --help**."
   ]
  },
  {
   "cell_type": "code",
   "execution_count": 1,
   "metadata": {},
   "outputs": [
    {
     "name": "stdout",
     "output_type": "stream",
     "text": [
      "Welcome to Python 3.12's help utility! If this is your first time using\n",
      "Python, you should definitely check out the tutorial at\n",
      "https://docs.python.org/3.12/tutorial/.\n",
      "\n",
      "Enter the name of any module, keyword, or topic to get help on writing\n",
      "Python programs and using Python modules.  To get a list of available\n",
      "modules, keywords, symbols, or topics, enter \"modules\", \"keywords\",\n",
      "\"symbols\", or \"topics\".\n",
      "\n",
      "Each module also comes with a one-line summary of what it does; to list\n",
      "the modules whose name or summary contain a given string such as \"spam\",\n",
      "enter \"modules spam\".\n",
      "\n",
      "To quit this help utility and return to the interpreter,\n",
      "enter \"q\" or \"quit\".\n",
      "\n"
     ]
    },
    {
     "name": "stdin",
     "output_type": "stream",
     "text": [
      "help>  q\n"
     ]
    },
    {
     "name": "stdout",
     "output_type": "stream",
     "text": [
      "\n",
      "You are now leaving help and returning to the Python interpreter.\n",
      "If you want to ask for help on a particular object directly from the\n",
      "interpreter, you can type \"help(object)\".  Executing \"help('string')\"\n",
      "has the same effect as typing a particular string at the help> prompt.\n"
     ]
    }
   ],
   "source": [
    "/help"
   ]
  },
  {
   "cell_type": "markdown",
   "metadata": {
    "id": "fee39700"
   },
   "source": [
    "To exit the manual page, type `q`.\n",
    "\n",
    "Let's see what happens when we type :\n",
    "\n",
    "```bash\n",
    "$ git --help\n",
    "```\n",
    "\n",
    "Excellent, it gives a list of commands it is able to help with, as well as their descriptions.\n",
    "\n",
    "```bash\n",
    "$  git help <command>' for more information on a specific command.\n",
    "```"
   ]
  },
  {
   "cell_type": "code",
   "execution_count": 1,
   "metadata": {},
   "outputs": [
    {
     "name": "stdout",
     "output_type": "stream",
     "text": [
      "usage: git [-v | --version] [-h | --help] [-C <path>] [-c <name>=<value>]\n",
      "           [--exec-path[=<path>]] [--html-path] [--man-path] [--info-path]\n",
      "           [-p | --paginate | -P | --no-pager] [--no-replace-objects] [--no-lazy-fetch]\n",
      "           [--no-optional-locks] [--no-advice] [--bare] [--git-dir=<path>]\n",
      "           [--work-tree=<path>] [--namespace=<name>] [--config-env=<name>=<envvar>]\n",
      "           <command> [<args>]\n",
      "\n",
      "These are common Git commands used in various situations:\n",
      "\n",
      "start a working area (see also: git help tutorial)\n",
      "   clone     Clone a repository into a new directory\n",
      "   init      Create an empty Git repository or reinitialize an existing one\n",
      "\n",
      "work on the current change (see also: git help everyday)\n",
      "   add       Add file contents to the index\n",
      "   mv        Move or rename a file, a directory, or a symlink\n",
      "   restore   Restore working tree files\n",
      "   rm        Remove files from the working tree and from the index\n",
      "\n",
      "examine the history and state (see also: git help revisions)\n",
      "   bisect    Use binary search to find the commit that introduced a bug\n",
      "   diff      Show changes between commits, commit and working tree, etc\n",
      "   grep      Print lines matching a pattern\n",
      "   log       Show commit logs\n",
      "   show      Show various types of objects\n",
      "   status    Show the working tree status\n",
      "\n",
      "grow, mark and tweak your common history\n",
      "   branch    List, create, or delete branches\n",
      "   commit    Record changes to the repository\n",
      "   merge     Join two or more development histories together\n",
      "   rebase    Reapply commits on top of another base tip\n",
      "   reset     Reset current HEAD to the specified state\n",
      "   switch    Switch branches\n",
      "   tag       Create, list, delete or verify a tag object signed with GPG\n",
      "\n",
      "collaborate (see also: git help workflows)\n",
      "   fetch     Download objects and refs from another repository\n",
      "   pull      Fetch from and integrate with another repository or a local branch\n",
      "   push      Update remote refs along with associated objects\n",
      "\n",
      "'git help -a' and 'git help -g' list available subcommands and some\n",
      "concept guides. See 'git help <command>' or 'git help <concept>'\n",
      "to read about a specific subcommand or concept.\n",
      "See 'git help git' for an overview of the system.\n"
     ]
    }
   ],
   "source": [
    "!git help"
   ]
  },
  {
   "cell_type": "markdown",
   "metadata": {
    "id": "da6e3f66"
   },
   "source": [
    "## git config : Controls the behavior of git\n",
    "A few settings are in order. You don't have to do it now but it is recommanded.\n",
    "\n",
    "```bash\n",
    "$ git config --global user.name \"YOUR NAME\"\n",
    "$ git config --global user.email \"YOUR EMAIL\"\n",
    "```     "
   ]
  },
  {
   "cell_type": "code",
   "execution_count": 3,
   "metadata": {},
   "outputs": [],
   "source": [
    "!git config --global user.name \"OR-YANG SAMUEL\""
   ]
  },
  {
   "cell_type": "code",
   "execution_count": 5,
   "metadata": {},
   "outputs": [],
   "source": [
    "!git config --global user.email \"or-yan.samuel@aims.ac.rw\"\n"
   ]
  },
  {
   "cell_type": "markdown",
   "metadata": {
    "id": "1b56ee4f"
   },
   "source": [
    "## git init : Creating a Local Repository\n",
    "\n",
    "To keep track of numerous versions of your work without saving numerous\n",
    "copies, you can make a local repository for it on your computer. What git\n",
    "does is to save the first version, then for each subsequent version it\n",
    "saves only the changes. This is the trick, git only records the difference between\n",
    "the new version and the one before it. With this compact information,\n",
    "git is able to recreate any version on demand by adding the changes to\n",
    "the original in order up to the version of interest.\n",
    "\n",
    "To create your own local (on your own machine) repository, you must\n",
    "initialize the repository with the infrastructure git needs in order to\n",
    "keep a record of things within the repository that you're concerned\n",
    "about. The command to do this is **git init** ."
   ]
  },
  {
   "cell_type": "code",
   "execution_count": 7,
   "metadata": {},
   "outputs": [
    {
     "name": "stdout",
     "output_type": "stream",
     "text": [
      "Reinitialized existing Git repository in C:/Users/oryan/.git/\n"
     ]
    }
   ],
   "source": [
    "! git init"
   ]
  },
  {
   "cell_type": "markdown",
   "metadata": {
    "id": "884dc97c"
   },
   "source": [
    "* * * * \n",
    "### Practical : Create a Local Repository\n",
    "\n",
    "Step 1 : Initialize your repository. Navigate to `/home`\n",
    "\n",
    "```bash\n",
    "$ cd\n",
    "$ mkdir simplestats\n",
    "$ cd simplestats\n",
    "$ git init\n",
    "Initialized empty Git repository in /home/me/simplestats/.git/\n",
    "```\n"
   ]
  },
  {
   "cell_type": "code",
   "execution_count": 9,
   "metadata": {},
   "outputs": [],
   "source": [
    "import sys\n",
    "sys.path.append('C:/Users/oryan')"
   ]
  },
  {
   "cell_type": "code",
   "execution_count": 11,
   "metadata": {},
   "outputs": [
    {
     "name": "stdout",
     "output_type": "stream",
     "text": [
      "C:\\Users\\oryan\n"
     ]
    }
   ],
   "source": [
    "\n",
    "cd "
   ]
  },
  {
   "cell_type": "code",
   "execution_count": 13,
   "metadata": {},
   "outputs": [
    {
     "name": "stderr",
     "output_type": "stream",
     "text": [
      "A subdirectory or file simplestats already exists.\n"
     ]
    }
   ],
   "source": [
    " mkdir simplestats "
   ]
  },
  {
   "cell_type": "code",
   "execution_count": 17,
   "metadata": {},
   "outputs": [
    {
     "name": "stdout",
     "output_type": "stream",
     "text": [
      "Reinitialized existing Git repository in C:/Users/oryan/simplestats/.git/\n"
     ]
    }
   ],
   "source": [
    " !git init "
   ]
  },
  {
   "cell_type": "markdown",
   "metadata": {},
   "source": [
    "Step 2 : Browse the directory's hidden files to see what happened here.\n",
    "Open directories, browse file contents. Learn what you can in a minute.\n",
    "\n",
    "```bash\n",
    "$ ls -A .git\n",
    "$ cd .git\n",
    "$ ls -A\n",
    "HEAD        config      description hooks       info        objects     refs      branches\n",
    "```\n",
    "\n"
   ]
  },
  {
   "cell_type": "code",
   "execution_count": 19,
   "metadata": {},
   "outputs": [
    {
     "name": "stdout",
     "output_type": "stream",
     "text": [
      " Volume in drive C has no label.\n",
      " Volume Serial Number is 3269-EF56\n",
      "\n",
      " Directory of C:\\Users\\oryan\\simplestats\n",
      "\n",
      "\n",
      " Directory of C:\\Users\\oryan\\simplestats\\.git\n",
      "\n",
      "09/26/2024  07:32 AM                49 COMMIT_EDITMSG\n",
      "09/26/2024  07:42 AM               130 config\n",
      "09/26/2024  05:35 AM                54 description\n",
      "09/26/2024  03:58 AM                23 HEAD\n",
      "09/26/2024  03:58 AM    <DIR>          hooks\n",
      "09/26/2024  05:50 AM               137 index\n",
      "09/26/2024  03:58 AM    <DIR>          info\n",
      "09/26/2024  05:50 AM    <DIR>          logs\n",
      "09/26/2024  05:50 AM    <DIR>          objects\n",
      "09/26/2024  07:19 AM                 5 README.md\n",
      "09/26/2024  03:58 AM    <DIR>          refs\n",
      "               6 File(s)            398 bytes\n",
      "               5 Dir(s)  164,910,338,048 bytes free\n"
     ]
    },
    {
     "name": "stderr",
     "output_type": "stream",
     "text": [
      "File Not Found\n"
     ]
    }
   ],
   "source": [
    "!dir -A .git"
   ]
  },
  {
   "cell_type": "code",
   "execution_count": 21,
   "metadata": {},
   "outputs": [
    {
     "data": {
      "text/plain": [
       "'C:\\\\Users\\\\oryan\\\\simplestats'"
      ]
     },
     "execution_count": 21,
     "metadata": {},
     "output_type": "execute_result"
    }
   ],
   "source": [
    "pwd"
   ]
  },
  {
   "cell_type": "code",
   "execution_count": 23,
   "metadata": {},
   "outputs": [
    {
     "name": "stdout",
     "output_type": "stream",
     "text": [
      " Volume in drive C has no label.\n",
      " Volume Serial Number is 3269-EF56\n",
      "\n",
      " Directory of C:\\Users\\oryan\\simplestats\\.git\n",
      "\n",
      "09/26/2024  07:42 AM    <DIR>          .\n",
      "09/26/2024  07:42 AM    <DIR>          ..\n",
      "09/26/2024  07:32 AM                49 COMMIT_EDITMSG\n",
      "09/26/2024  07:42 AM               130 config\n",
      "09/26/2024  05:35 AM                54 description\n",
      "09/26/2024  03:58 AM                23 HEAD\n",
      "09/26/2024  03:58 AM    <DIR>          hooks\n",
      "09/26/2024  05:50 AM               137 index\n",
      "09/26/2024  03:58 AM    <DIR>          info\n",
      "09/26/2024  05:50 AM    <DIR>          logs\n",
      "09/26/2024  05:50 AM    <DIR>          objects\n",
      "09/26/2024  07:19 AM                 5 README.md\n",
      "09/26/2024  03:58 AM    <DIR>          refs\n",
      "               6 File(s)            398 bytes\n",
      "               7 Dir(s)  164,910,399,488 bytes free\n"
     ]
    }
   ],
   "source": [
    "!dir /a .git"
   ]
  },
  {
   "cell_type": "code",
   "execution_count": 25,
   "metadata": {},
   "outputs": [
    {
     "name": "stdout",
     "output_type": "stream",
     "text": [
      " Volume in drive C has no label.\n",
      " Volume Serial Number is 3269-EF56\n",
      "\n",
      " Directory of C:\\Users\\oryan\\simplestats\n",
      "\n",
      "09/26/2024  05:44 AM    <DIR>          .\n",
      "09/26/2024  05:44 AM    <DIR>          ..\n",
      "09/26/2024  07:42 AM    <DIR>          .git\n",
      "09/26/2024  05:44 AM                 5 README.md\n",
      "09/26/2024  04:04 AM    <DIR>          simplestats\n",
      "               1 File(s)              5 bytes\n",
      "               4 Dir(s)  164,909,932,544 bytes free\n"
     ]
    }
   ],
   "source": [
    "!dir /a"
   ]
  },
  {
   "cell_type": "code",
   "execution_count": 27,
   "metadata": {},
   "outputs": [
    {
     "name": "stdout",
     "output_type": "stream",
     "text": [
      "C:\\Users\\oryan\\simplestats\\.git\n"
     ]
    }
   ],
   "source": [
    "cd .git"
   ]
  },
  {
   "cell_type": "code",
   "execution_count": 29,
   "metadata": {},
   "outputs": [
    {
     "data": {
      "text/plain": [
       "'C:\\\\Users\\\\oryan\\\\simplestats\\\\.git'"
      ]
     },
     "execution_count": 29,
     "metadata": {},
     "output_type": "execute_result"
    }
   ],
   "source": [
    "pwd"
   ]
  },
  {
   "cell_type": "code",
   "execution_count": 31,
   "metadata": {},
   "outputs": [
    {
     "name": "stdout",
     "output_type": "stream",
     "text": [
      " Volume in drive C has no label.\n",
      " Volume Serial Number is 3269-EF56\n",
      "\n",
      " Directory of C:\\Users\\oryan\\simplestats\\.git\n",
      "\n",
      "09/26/2024  07:32 AM                49 COMMIT_EDITMSG\n",
      "09/26/2024  07:42 AM               130 config\n",
      "09/26/2024  05:35 AM                54 description\n",
      "09/26/2024  03:58 AM                23 HEAD\n",
      "09/26/2024  03:58 AM    <DIR>          hooks\n",
      "09/26/2024  05:50 AM               137 index\n",
      "09/26/2024  03:58 AM    <DIR>          info\n",
      "09/26/2024  05:50 AM    <DIR>          logs\n",
      "09/26/2024  05:50 AM    <DIR>          objects\n",
      "09/26/2024  07:19 AM                 5 README.md\n",
      "09/26/2024  03:58 AM    <DIR>          refs\n",
      "               6 File(s)            398 bytes\n",
      "               5 Dir(s)  164,909,793,280 bytes free\n"
     ]
    }
   ],
   "source": [
    "ls"
   ]
  },
  {
   "cell_type": "markdown",
   "metadata": {},
   "source": [
    "Step 3 : Use what you've learned. You may have noticed the file called description. You can describe your repository by opening the description file and replacing the text with a name for the repository.  We will be creating a module with some simple statistical methods, so mine will be called \"Some simple methods for statistical analysis\". You may call yours  anything you like.\n",
    "\n",
    "```bash\n",
    "$ nano description\n",
    "```"
   ]
  },
  {
   "cell_type": "code",
   "execution_count": 33,
   "metadata": {},
   "outputs": [],
   "source": [
    "!notepad description"
   ]
  },
  {
   "cell_type": "markdown",
   "metadata": {},
   "source": [
    "You can use `!tree` or `tree` to display the directory structure in a tree-like format"
   ]
  },
  {
   "cell_type": "code",
   "execution_count": 35,
   "metadata": {},
   "outputs": [
    {
     "name": "stdout",
     "output_type": "stream",
     "text": [
      "Folder PATH listing\n",
      "Volume serial number is 3269-EF56\n",
      "C:.\n",
      "ÃÄÄÄhooks\n",
      "ÃÄÄÄinfo\n",
      "ÃÄÄÄlogs\n",
      "³   ÀÄÄÄrefs\n",
      "³       ÀÄÄÄheads\n",
      "ÃÄÄÄobjects\n",
      "³   ÃÄÄÄ2a\n",
      "³   ÃÄÄÄ4b\n",
      "³   ÃÄÄÄ70\n",
      "³   ÃÄÄÄa6\n",
      "³   ÃÄÄÄinfo\n",
      "³   ÀÄÄÄpack\n",
      "ÀÄÄÄrefs\n",
      "    ÃÄÄÄheads\n",
      "    ÀÄÄÄtags\n"
     ]
    }
   ],
   "source": [
    "!tree"
   ]
  },
  {
   "cell_type": "markdown",
   "metadata": {
    "id": "8-rwgD5HbIdj"
   },
   "source": [
    "* * *  *\n",
    "An interesting command I would like you to test is `git status`, I will describe it later but let's see what it displays now.\n",
    "```bash\n",
    "$ git status\n",
    "On branch master\n",
    "\n",
    "No commits yet\n",
    "\n",
    "nothing to commit (create/copy files and use \"git add\" to track)\n",
    "```\n",
    "\n",
    "* * *  *\n"
   ]
  },
  {
   "cell_type": "code",
   "execution_count": 37,
   "metadata": {},
   "outputs": [
    {
     "data": {
      "text/plain": [
       "'C:\\\\Users\\\\oryan\\\\simplestats\\\\.git'"
      ]
     },
     "execution_count": 37,
     "metadata": {},
     "output_type": "execute_result"
    }
   ],
   "source": [
    "pwd"
   ]
  },
  {
   "cell_type": "markdown",
   "metadata": {
    "id": "bdcfca76"
   },
   "source": [
    "## git add : Adding a File To Version Control\n",
    "\n",
    "For the git repository to know which files within this directory you\n",
    "would like to keep track of, you must add them. First, you'll need to\n",
    "create one, then we'll learn the **git add** command."
   ]
  },
  {
   "cell_type": "markdown",
   "metadata": {
    "id": "a6f520a2"
   },
   "source": [
    "* * * * \n",
    "### Practical : Add a File to Your Local Repository\n",
    "\n",
    "Step 1 : Create a file to add to your repository.\n",
    "\n",
    "```bash\n",
    "$ touch README.md\n",
    "```\n",
    "\n"
   ]
  },
  {
   "cell_type": "markdown",
   "metadata": {},
   "source": [
    "Step 2: Verify that git has seen the file.\n",
    "\n",
    "```bash\n",
    "$ git status\n",
    "# On branch master\n",
    "\n",
    "# No commits yet\n",
    "\n",
    "# Untracked files:\n",
    "#(use \"git add <file>...\" to include in what will be committed) README.md\n",
    "\n",
    "# nothing added to commit but untracked files present (use \"git add\" to track)\n",
    "```\n"
   ]
  },
  {
   "cell_type": "code",
   "execution_count": 39,
   "metadata": {},
   "outputs": [],
   "source": [
    "echo \"\" >> README.md"
   ]
  },
  {
   "cell_type": "markdown",
   "metadata": {},
   "source": [
    "\n",
    "Step 3 : Inform git that you would like to keep track of future changes\n",
    "in this file.\n",
    "\n",
    "```bash\n",
    "$ git add README.md\n",
    "```"
   ]
  },
  {
   "cell_type": "code",
   "execution_count": 41,
   "metadata": {},
   "outputs": [
    {
     "name": "stdout",
     "output_type": "stream",
     "text": [
      " Volume in drive C has no label.\n",
      " Volume Serial Number is 3269-EF56\n",
      "\n",
      " Directory of C:\\Users\\oryan\\simplestats\\.git\n",
      "\n",
      "09/26/2024  07:32 AM                49 COMMIT_EDITMSG\n",
      "09/26/2024  07:42 AM               130 config\n",
      "09/26/2024  05:35 AM                54 description\n",
      "09/26/2024  03:58 AM                23 HEAD\n",
      "09/26/2024  03:58 AM    <DIR>          hooks\n",
      "09/26/2024  05:50 AM               137 index\n",
      "09/26/2024  03:58 AM    <DIR>          info\n",
      "09/26/2024  05:50 AM    <DIR>          logs\n",
      "09/26/2024  05:50 AM    <DIR>          objects\n",
      "09/26/2024  07:44 AM                10 README.md\n",
      "09/26/2024  03:58 AM    <DIR>          refs\n",
      "               6 File(s)            403 bytes\n",
      "               5 Dir(s)  164,909,387,776 bytes free\n"
     ]
    }
   ],
   "source": [
    "ls"
   ]
  },
  {
   "cell_type": "markdown",
   "metadata": {
    "id": "31901d46"
   },
   "source": [
    "## git status : Checking the status of your local copy\n",
    "\n",
    "The files you've created on your machine are your local \"working\" copy.\n",
    "The changes your make in this local copy aren't backed up online\n",
    "automatically. Until you commit them, the changes you make are local\n",
    "changes. When you change anything, your set of files becomes different\n",
    "from the files in the official repository copy. To find out what's\n",
    "different about them in the terminal, try:\n",
    "\n",
    "```bash\n",
    "$ git status\n",
    "# On branch master\n",
    "#\n",
    "# No commits yet\n",
    "#\n",
    "# Changes to be committed:\n",
    "#   (use \"git rm --cached <file>...\" to unstage)\n",
    "#\n",
    "#       new file:   README.md\n",
    "#\n",
    "```\n",
    "\n",
    "The null result means that you're up to date with the current version of\n",
    "the repository online. This result indicates that the current difference\n",
    "between the repository HEAD (which, so far, is empty) and your\n",
    "`simplestats` directory is this new README.md file."
   ]
  },
  {
   "cell_type": "code",
   "execution_count": 43,
   "metadata": {},
   "outputs": [
    {
     "data": {
      "text/plain": [
       "'C:\\\\Users\\\\oryan\\\\simplestats\\\\.git'"
      ]
     },
     "execution_count": 43,
     "metadata": {},
     "output_type": "execute_result"
    }
   ],
   "source": [
    "pwd"
   ]
  },
  {
   "cell_type": "code",
   "execution_count": 47,
   "metadata": {},
   "outputs": [
    {
     "name": "stdout",
     "output_type": "stream",
     "text": [
      "C:\\Users\\oryan\\simplestats\n"
     ]
    }
   ],
   "source": [
    "cd .."
   ]
  },
  {
   "cell_type": "code",
   "execution_count": 57,
   "metadata": {},
   "outputs": [
    {
     "name": "stdout",
     "output_type": "stream",
     "text": [
      " Volume in drive C has no label.\n",
      " Volume Serial Number is 3269-EF56\n",
      "\n",
      " Directory of C:\\Users\\oryan\\simplestats\n",
      "\n",
      "09/26/2024  05:44 AM    <DIR>          .\n",
      "09/26/2024  05:44 AM    <DIR>          ..\n",
      "09/26/2024  05:44 AM                 5 README.md\n",
      "09/26/2024  04:04 AM    <DIR>          simplestats\n",
      "               1 File(s)              5 bytes\n",
      "               3 Dir(s)  164,901,117,952 bytes free\n"
     ]
    }
   ],
   "source": [
    "ls"
   ]
  },
  {
   "cell_type": "code",
   "execution_count": 59,
   "metadata": {},
   "outputs": [
    {
     "name": "stdout",
     "output_type": "stream",
     "text": [
      "On branch master\n",
      "Untracked files:\n",
      "  (use \"git add <file>...\" to include in what will be committed)\n",
      "\tsimplestats/\n",
      "\n",
      "nothing added to commit but untracked files present (use \"git add\" to track)\n"
     ]
    }
   ],
   "source": [
    "!git status"
   ]
  },
  {
   "cell_type": "markdown",
   "metadata": {
    "id": "5c0466af"
   },
   "source": [
    "## git commit : Saving a snapshot\n",
    "\n",
    "In order to save a snapshot of the current state (revision) of the\n",
    "repository, we use the commit command. This command is always associated\n",
    "with a message describing the changes since the last commit and\n",
    "indicating their purpose. Informative commit messages will serve you\n",
    "well someday, so make a habit of never committing changes without at\n",
    "least a full sentence description.\n",
    "\n",
    "**ADVICE: Commit often**\n",
    "\n",
    "In the same way that it is wise to often save a document that you are\n",
    "working on, so too is it wise to save numerous revisions of your code.\n",
    "More frequent commits increase the granularity of your **undo** button.\n",
    "\n",
    "**ADVICE: Good commit messages**\n",
    "\n",
    "There are no hard and fast rules, but good commits are atomic: they are the smallest change that remain meaningful. A good commit message usually contains a one-line description followed by a longer explanation if necessary.\n"
   ]
  },
  {
   "cell_type": "markdown",
   "metadata": {
    "id": "ad25127c"
   },
   "source": [
    "* * * \n",
    "### Practical : Commit Your Changes\n",
    "\n",
    "Step 1 : Commit the file you've added to your repository.\n",
    "\n",
    "```bash\n",
    "$ git commit -am \"This is the first commit. It adds a readme file.\"\n",
    "  [master (root-commit) 664867c] This is the first commit. It adds a readme file.\n",
    "  1 file changed, 0 insertions(+), 0 deletions(-)\n",
    "  create mode 100644 readme.md\n",
    "```  "
   ]
  },
  {
   "cell_type": "code",
   "execution_count": 114,
   "metadata": {},
   "outputs": [],
   "source": [
    "!git add README.md"
   ]
  },
  {
   "cell_type": "code",
   "execution_count": 116,
   "metadata": {},
   "outputs": [
    {
     "name": "stdout",
     "output_type": "stream",
     "text": [
      " Volume in drive C has no label.\n",
      " Volume Serial Number is 3269-EF56\n",
      "\n",
      " Directory of C:\\Users\\oryan\\simplestats\n",
      "\n",
      "09/26/2024  08:15 AM    <DIR>          .\n",
      "09/26/2024  08:15 AM    <DIR>          ..\n",
      "09/26/2024  05:44 AM                 5 README.md\n",
      "               1 File(s)              5 bytes\n",
      "               2 Dir(s)  164,884,443,136 bytes free\n"
     ]
    }
   ],
   "source": [
    "ls"
   ]
  },
  {
   "cell_type": "code",
   "execution_count": 118,
   "metadata": {},
   "outputs": [
    {
     "name": "stdout",
     "output_type": "stream",
     "text": [
      "On branch master\n",
      "nothing to commit, working tree clean\n"
     ]
    }
   ],
   "source": [
    "!git commit -am \"This is the first commit. It adds a readme file.\""
   ]
  },
  {
   "cell_type": "markdown",
   "metadata": {},
   "source": [
    "Step 2 : Admire your work.\n",
    "\n",
    "```bash\n",
    "$ git status\n",
    "# On branch master\n",
    "nothing to commit, working tree clean\n",
    "```"
   ]
  },
  {
   "cell_type": "code",
   "execution_count": 120,
   "metadata": {},
   "outputs": [
    {
     "name": "stdout",
     "output_type": "stream",
     "text": [
      "On branch master\n",
      "nothing to commit, working tree clean\n"
     ]
    }
   ],
   "source": [
    "!git status"
   ]
  },
  {
   "cell_type": "code",
   "execution_count": 122,
   "metadata": {},
   "outputs": [
    {
     "name": "stdout",
     "output_type": "stream",
     "text": [
      "commit 70551794df18e589dc785bb796dfda1154e591df\n",
      "Author: OR-YANG SAMUEL <or-yan.samuel@aims.ac.rw>\n",
      "Date:   Thu Sep 26 05:50:47 2024 -1200\n",
      "\n",
      "    This is the first commit. It adds a readme file.\n"
     ]
    }
   ],
   "source": [
    "!git log"
   ]
  },
  {
   "cell_type": "markdown",
   "metadata": {
    "id": "46cbed6f"
   },
   "source": [
    "## git diff : Viewing the Differences\n",
    "\n",
    "There are many diff tools.\n",
    "\n",
    "If you have a favorite you can set your default git diff tool to execute that one. Git, however, comes with its own diff system.\n",
    "\n",
    "Let's recall the behavior of the linux [`diff`](https://www.geeksforgeeks.org/diff-command-linux-examples/) command on the command line. The equivalent command for windows is [fc](https://www.howtogeek.com/206123/how-to-use-fc-file-compare-from-the-windows-command-prompt/). Choosing two files that are similar, the command:\n",
    "\n",
    "```bash\n",
    "$!diff file1 file2\n",
    "```\n",
    "\n",
    "will output the lines that differ between the two files. This information can be saved as what's known as a patch, but we won't go deeply into that just now.\n"
   ]
  },
  {
   "cell_type": "markdown",
   "metadata": {},
   "source": [
    "The only difference between the command line diff tool and git's diff tool is that the git tool is aware of all of the revisions in your repository, allowing each revision of each file to be treated as a full file.\n",
    "\n",
    "\n",
    "Thus, git diff will output the changes in your working directory that are not yet staged for a commit. To see how this works, make a change in your `README.md` file, but don't yet commit it.\n",
    "\n",
    "```bash\n",
    "$ git diff\n",
    "```"
   ]
  },
  {
   "cell_type": "code",
   "execution_count": 130,
   "metadata": {},
   "outputs": [
    {
     "name": "stdout",
     "output_type": "stream",
     "text": [
      " Volume in drive C has no label.\n",
      " Volume Serial Number is 3269-EF56\n",
      "\n",
      " Directory of C:\\Users\\oryan\\simplestats\n",
      "\n",
      "09/26/2024  08:15 AM    <DIR>          .\n",
      "09/26/2024  08:15 AM    <DIR>          ..\n",
      "09/26/2024  08:17 AM    <DIR>          .git\n",
      "09/26/2024  05:44 AM                 5 README.md\n",
      "               1 File(s)              5 bytes\n",
      "               3 Dir(s)  164,886,913,024 bytes free\n"
     ]
    }
   ],
   "source": [
    "!dir/a"
   ]
  },
  {
   "cell_type": "code",
   "execution_count": 138,
   "metadata": {},
   "outputs": [],
   "source": [
    "!notepad README.md"
   ]
  },
  {
   "cell_type": "code",
   "execution_count": 134,
   "metadata": {},
   "outputs": [
    {
     "name": "stdout",
     "output_type": "stream",
     "text": [
      "On branch master\n",
      "nothing to commit, working tree clean\n"
     ]
    }
   ],
   "source": [
    "!git status"
   ]
  },
  {
   "cell_type": "code",
   "execution_count": 140,
   "metadata": {},
   "outputs": [
    {
     "name": "stdout",
     "output_type": "stream",
     "text": [
      "diff --git a/README.md b/README.md\n",
      "index a60141c..789b489 100644\n",
      "--- a/README.md\n",
      "+++ b/README.md\n",
      "@@ -1 +1 @@\n",
      "-\"\" \n",
      "+\"Hello World\" \n"
     ]
    }
   ],
   "source": [
    "!git diff"
   ]
  },
  {
   "cell_type": "markdown",
   "metadata": {},
   "source": [
    "A summarized version of this output can be output with the `--stat` flag :\n",
    "\n",
    "```bash\n",
    "$ git diff --stat\n",
    "```"
   ]
  },
  {
   "cell_type": "code",
   "execution_count": 142,
   "metadata": {},
   "outputs": [
    {
     "name": "stdout",
     "output_type": "stream",
     "text": [
      " README.md | 2 +-\n",
      " 1 file changed, 1 insertion(+), 1 deletion(-)\n"
     ]
    }
   ],
   "source": [
    "!git diff --stat"
   ]
  },
  {
   "cell_type": "markdown",
   "metadata": {},
   "source": [
    "To see only the differences in a certain path, try:\n",
    "\n",
    "```bash\n",
    "$ git diff HEAD -- [path]\n",
    "```"
   ]
  },
  {
   "cell_type": "code",
   "execution_count": 148,
   "metadata": {},
   "outputs": [
    {
     "name": "stdout",
     "output_type": "stream",
     "text": [
      "diff --git a/README.md b/README.md\n",
      "index a60141c..789b489 100644\n",
      "--- a/README.md\n",
      "+++ b/README.md\n",
      "@@ -1 +1 @@\n",
      "-\"\" \n",
      "+\"Hello World\" \n"
     ]
    }
   ],
   "source": [
    "!git diff HEAD -- ."
   ]
  },
  {
   "cell_type": "markdown",
   "metadata": {},
   "source": [
    "To see what IS staged for commit (that is, what will be committed if you\n",
    "type git commit without the -a flag), you can try :\n",
    "```bash\n",
    "$ git diff --cached\n",
    "```"
   ]
  },
  {
   "cell_type": "code",
   "execution_count": 154,
   "metadata": {},
   "outputs": [],
   "source": [
    "!git add ."
   ]
  },
  {
   "cell_type": "code",
   "execution_count": 156,
   "metadata": {},
   "outputs": [
    {
     "name": "stdout",
     "output_type": "stream",
     "text": [
      "[master 0592644] Waiting to be committed.\n",
      " 1 file changed, 1 insertion(+), 1 deletion(-)\n"
     ]
    }
   ],
   "source": [
    "!git commit -am \"Waiting to be committed.\""
   ]
  },
  {
   "cell_type": "code",
   "execution_count": 158,
   "metadata": {},
   "outputs": [],
   "source": [
    "!git diff -- cached"
   ]
  },
  {
   "cell_type": "markdown",
   "metadata": {
    "id": "181eb736"
   },
   "source": [
    "## git log : Viewing the History\n",
    "\n",
    "A log of the commit messages is kept by the repository and can be\n",
    "reviewed with the log command.\n",
    "\n",
    "```bash\n",
    "    $ git log       \n",
    "   commit 664867c42a05461702388310155b785a287d0308 (HEAD -> master)\n",
    "    Author: Techni Preneurs <ai.technipreneurs@gmail.com>\n",
    "    Date:   Wed Sep 11 20:31:07 2024 +0200\n",
    "\n",
    "        This is the first commit. It adds a readme file.    \n",
    "```\n"
   ]
  },
  {
   "cell_type": "code",
   "execution_count": 160,
   "metadata": {},
   "outputs": [
    {
     "name": "stdout",
     "output_type": "stream",
     "text": [
      "commit 059264451329dbc7f2720164d60de1511a258606\n",
      "Author: OR-YANG SAMUEL <or-yan.samuel@aims.ac.rw>\n",
      "Date:   Thu Sep 26 08:49:24 2024 -1200\n",
      "\n",
      "    Waiting to be committed.\n",
      "\n",
      "commit 70551794df18e589dc785bb796dfda1154e591df\n",
      "Author: OR-YANG SAMUEL <or-yan.samuel@aims.ac.rw>\n",
      "Date:   Thu Sep 26 05:50:47 2024 -1200\n",
      "\n",
      "    This is the first commit. It adds a readme file.\n"
     ]
    }
   ],
   "source": [
    "!git log"
   ]
  },
  {
   "cell_type": "markdown",
   "metadata": {},
   "source": [
    "There are some useful flags for this command, such as\n",
    "\n",
    "    -p\n",
    "    -3\n",
    "    --stat\n",
    "    --oneline\n",
    "    --graph\n",
    "    --pretty=short/full/fuller/oneline\n",
    "    --since=X.minutes/hours/days/weeks/months/years or YY-MM-DD-HH:MM\n",
    "    --until=X.minutes/hours/days/weeks/months/years or YY-MM-DD-HH:MM\n",
    "    --author=<pattern>"
   ]
  },
  {
   "cell_type": "markdown",
   "metadata": {
    "id": "8f0edce4"
   },
   "source": [
    "## git reset : Unstaging a staged file\n",
    "\n",
    "There are a number of ways that you may accidentally stage a file that\n",
    "you don't want to commit.  Create a file called `temp_notes` that\n",
    "describes what you had for breakfast, and then add that file to your\n",
    "repo.  Check with `status` to see that it is added but not committed.\n",
    "\n",
    "You can now unstage that file with:\n",
    "\n",
    "```bash\n",
    "$ git reset temp_notes\n",
    "```\n",
    "\n",
    "Check with `status`."
   ]
  },
  {
   "cell_type": "code",
   "execution_count": 162,
   "metadata": {},
   "outputs": [],
   "source": [
    "!notepad temp_notes"
   ]
  },
  {
   "cell_type": "code",
   "execution_count": 168,
   "metadata": {},
   "outputs": [
    {
     "name": "stdout",
     "output_type": "stream",
     "text": [
      "On branch master\n",
      "Untracked files:\n",
      "  (use \"git add <file>...\" to include in what will be committed)\n",
      "\ttemp_notes.txt\n",
      "\n",
      "nothing added to commit but untracked files present (use \"git add\" to track)\n"
     ]
    }
   ],
   "source": [
    "!git status"
   ]
  },
  {
   "cell_type": "markdown",
   "metadata": {
    "id": "f949535f"
   },
   "source": [
    "## git checkout : Discarding unstaged modifications (git checkout has other purposes)\n",
    "\n",
    "Perhaps you have made a number of changes that you realize are not\n",
    "going anywhere.  Add a line to `README.md` that describes your dinner\n",
    "last night.  Check with `status` to see that the file is changed and\n",
    "ready to be added.\n",
    "\n",
    "You can now return to previous checked in version with:\n",
    "```bash\n",
    "$ git checkout -- README.md\n",
    "```\n",
    "Check with `status` and take a look at the file."
   ]
  },
  {
   "cell_type": "code",
   "execution_count": 172,
   "metadata": {},
   "outputs": [],
   "source": [
    "!git add temp_notes.txt"
   ]
  },
  {
   "cell_type": "code",
   "execution_count": 174,
   "metadata": {},
   "outputs": [
    {
     "name": "stdout",
     "output_type": "stream",
     "text": [
      "On branch master\n",
      "Changes to be committed:\n",
      "  (use \"git restore --staged <file>...\" to unstage)\n",
      "\tnew file:   temp_notes.txt\n",
      "\n"
     ]
    }
   ],
   "source": [
    "!git status"
   ]
  },
  {
   "cell_type": "markdown",
   "metadata": {
    "id": "7b00e29e"
   },
   "source": [
    "## git rm : Removing files\n",
    "\n",
    "There are a variety of reasons you way want to remove a file from the\n",
    "repository after it has been committed.  Create a file called `READYOU.md` with the first names of all your immediate family members, and add/commit it to the repository.\n",
    "\n",
    "You can now remove the file from the repository with:\n",
    "\n",
    "```bash\n",
    "$ git rm READYOU.md\n",
    "```\n",
    "List the directory to see that you have no file named `READYOU.md`. Use `status` to determine if you need any additional steps."
   ]
  },
  {
   "cell_type": "code",
   "execution_count": 204,
   "metadata": {},
   "outputs": [],
   "source": [
    "echo \"Richard, Emilia, Alfred, Samuel, Charles,Janet\" >> READYOU.md"
   ]
  },
  {
   "cell_type": "code",
   "execution_count": 206,
   "metadata": {},
   "outputs": [
    {
     "name": "stdout",
     "output_type": "stream",
     "text": [
      "On branch master\n",
      "Changes not staged for commit:\n",
      "  (use \"git add <file>...\" to update what will be committed)\n",
      "  (use \"git restore <file>...\" to discard changes in working directory)\n",
      "\tmodified:   READYOU.md\n",
      "\n",
      "no changes added to commit (use \"git add\" and/or \"git commit -a\")\n"
     ]
    }
   ],
   "source": [
    "!git status"
   ]
  },
  {
   "cell_type": "code",
   "execution_count": 208,
   "metadata": {},
   "outputs": [],
   "source": [
    "!git add ."
   ]
  },
  {
   "cell_type": "code",
   "execution_count": 210,
   "metadata": {},
   "outputs": [
    {
     "name": "stdout",
     "output_type": "stream",
     "text": [
      "On branch master\n",
      "Changes to be committed:\n",
      "  (use \"git restore --staged <file>...\" to unstage)\n",
      "\tmodified:   READYOU.md\n",
      "\n"
     ]
    }
   ],
   "source": [
    "!git status"
   ]
  },
  {
   "cell_type": "code",
   "execution_count": 212,
   "metadata": {},
   "outputs": [
    {
     "name": "stdout",
     "output_type": "stream",
     "text": [
      "[master 8376315] Waiting to be committed.\n",
      " 1 file changed, 1 insertion(+), 1 deletion(-)\n"
     ]
    }
   ],
   "source": [
    "!git commit -am \"Waiting to be committed.\""
   ]
  },
  {
   "cell_type": "code",
   "execution_count": 214,
   "metadata": {},
   "outputs": [
    {
     "name": "stdout",
     "output_type": "stream",
     "text": [
      "On branch master\n",
      "nothing to commit, working tree clean\n"
     ]
    }
   ],
   "source": [
    "!git status"
   ]
  },
  {
   "cell_type": "markdown",
   "metadata": {},
   "source": [
    "What if you delete a file in the shell without `git rm`? Try deleting `README.md`\n",
    "```bash\n",
    "$ rm README.md\n",
    "```\n",
    "\n",
    "\n"
   ]
  },
  {
   "cell_type": "code",
   "execution_count": 216,
   "metadata": {},
   "outputs": [
    {
     "name": "stdout",
     "output_type": "stream",
     "text": [
      "rm 'READYOU.md'\n"
     ]
    }
   ],
   "source": [
    "!git rm READYOU.md"
   ]
  },
  {
   "cell_type": "code",
   "execution_count": 218,
   "metadata": {},
   "outputs": [
    {
     "name": "stdout",
     "output_type": "stream",
     "text": [
      "On branch master\n",
      "Changes to be committed:\n",
      "  (use \"git restore --staged <file>...\" to unstage)\n",
      "\tdeleted:    READYOU.md\n",
      "\n"
     ]
    }
   ],
   "source": [
    "!git status"
   ]
  },
  {
   "cell_type": "markdown",
   "metadata": {},
   "source": [
    "What does `git status` say?  Oops! How can you recover this important\n",
    "file?\n",
    "```bash\n",
    "$ git checkout -- README.md\n",
    "```"
   ]
  },
  {
   "cell_type": "code",
   "execution_count": 220,
   "metadata": {},
   "outputs": [],
   "source": [
    "!git checkout -- README.md"
   ]
  },
  {
   "cell_type": "markdown",
   "metadata": {},
   "source": [
    " We can recover this file by using 'git restore'."
   ]
  },
  {
   "cell_type": "markdown",
   "metadata": {
    "id": "1d3ecc05"
   },
   "source": [
    "## git revert : the promised \"undo\" button\n",
    "\n",
    "It is possible that after many commits, you decide that you really want to **rollback** a set of commits and start over.  It is easy to revert your code to a previous version.\n",
    "\n",
    "You can use `git log` and `git diff` to explore your history and determine which version you are interested in.  Choose a version and note the *hash* for that version. (Let's assume `abc456`)\n",
    "\n",
    "```bash\n",
    "$ git revert abc456\n",
    "```\n",
    "\n",
    "**Importantly,** this will not erase the intervening commits.  This will create a new commit that is changed from the previous commit by a change that will recreate the desired version.  This retains a complete provenance of your software, and be compared to the prohibition in removing pages from a lab notebook."
   ]
  },
  {
   "cell_type": "code",
   "execution_count": 226,
   "metadata": {},
   "outputs": [
    {
     "name": "stdout",
     "output_type": "stream",
     "text": [
      "[master 2162a4b] Restored README.md\n",
      " 1 file changed, 6 deletions(-)\n",
      " delete mode 100644 READYOU.md\n"
     ]
    }
   ],
   "source": [
    "!git commit -am \"Restored README.md\""
   ]
  },
  {
   "cell_type": "code",
   "execution_count": 230,
   "metadata": {},
   "outputs": [
    {
     "name": "stdout",
     "output_type": "stream",
     "text": [
      "On branch master\n",
      "nothing to commit, working tree clean\n"
     ]
    }
   ],
   "source": [
    "!git status"
   ]
  },
  {
   "cell_type": "code",
   "execution_count": 232,
   "metadata": {},
   "outputs": [
    {
     "name": "stdout",
     "output_type": "stream",
     "text": [
      "commit 2162a4b15767438336ebaf174ee72dbfb090d6ac\n",
      "Author: OR-YANG SAMUEL <or-yan.samuel@aims.ac.rw>\n",
      "Date:   Thu Sep 26 09:24:15 2024 -1200\n",
      "\n",
      "    Restored README.md\n",
      "\n",
      "commit 8376315f66c7c5673ec711fd733f2b73923b9f9f\n",
      "Author: OR-YANG SAMUEL <or-yan.samuel@aims.ac.rw>\n",
      "Date:   Thu Sep 26 09:13:11 2024 -1200\n",
      "\n",
      "    Waiting to be committed.\n",
      "\n",
      "commit 762431172684146e7fd807b0247682159a574fd0\n",
      "Author: OR-YANG SAMUEL <or-yan.samuel@aims.ac.rw>\n",
      "Date:   Thu Sep 26 09:02:55 2024 -1200\n",
      "\n",
      "    Waiting to be committed.\n",
      "\n",
      "commit 059264451329dbc7f2720164d60de1511a258606\n",
      "Author: OR-YANG SAMUEL <or-yan.samuel@aims.ac.rw>\n",
      "Date:   Thu Sep 26 08:49:24 2024 -1200\n",
      "\n",
      "    Waiting to be committed.\n",
      "\n",
      "commit 70551794df18e589dc785bb796dfda1154e591df\n",
      "Author: OR-YANG SAMUEL <or-yan.samuel@aims.ac.rw>\n",
      "Date:   Thu Sep 26 05:50:47 2024 -1200\n",
      "\n",
      "    This is the first commit. It adds a readme file.\n"
     ]
    }
   ],
   "source": [
    "!git log"
   ]
  },
  {
   "cell_type": "code",
   "execution_count": 234,
   "metadata": {},
   "outputs": [
    {
     "name": "stdout",
     "output_type": "stream",
     "text": [
      "[master 7291756] Revert \"Restored README.md\"\n",
      " Date: Thu Sep 26 09:27:59 2024 -1200\n",
      " 1 file changed, 6 insertions(+)\n",
      " create mode 100644 READYOU.md\n"
     ]
    }
   ],
   "source": [
    "!git revert -- 2162a4b15767438336ebaf174ee72dbfb090d6ac"
   ]
  },
  {
   "cell_type": "code",
   "execution_count": 236,
   "metadata": {},
   "outputs": [
    {
     "name": "stdout",
     "output_type": "stream",
     "text": [
      "On branch master\n",
      "nothing to commit, working tree clean\n"
     ]
    }
   ],
   "source": [
    "!git status"
   ]
  },
  {
   "cell_type": "markdown",
   "metadata": {},
   "source": [
    "## Visualize Git Log Tree\n",
    "For this section, you can read the necessary information [here](https://tech.serhatteker.com/post/2021-02/git-log-tree/). The idea is just to make your commits a bit fancy. To really see the beauty of it, try to play with your files and do quite a number of commits.\n",
    "\n",
    "```bash\n",
    "$ git log\n",
    "```\n",
    "\n",
    "or \n",
    "\n",
    "```bash\n",
    "$ git log --pretty=oneline\n",
    "```\n",
    "\n",
    "or\n",
    "\n",
    "```bash\n",
    "$ git log --graph --pretty='%Cred%h%Creset -%C(auto)%d%Creset %s %Cgreen(%cr) %C(bold blue)<%an>%Creset' --all\n",
    "```"
   ]
  },
  {
   "cell_type": "code",
   "execution_count": 238,
   "metadata": {},
   "outputs": [
    {
     "name": "stdout",
     "output_type": "stream",
     "text": [
      "commit 7291756150789781b9566866fdab4b9fd1e28b22\n",
      "Author: OR-YANG SAMUEL <or-yan.samuel@aims.ac.rw>\n",
      "Date:   Thu Sep 26 09:27:59 2024 -1200\n",
      "\n",
      "    Revert \"Restored README.md\"\n",
      "    \n",
      "    This reverts commit 2162a4b15767438336ebaf174ee72dbfb090d6ac.\n",
      "\n",
      "commit 2162a4b15767438336ebaf174ee72dbfb090d6ac\n",
      "Author: OR-YANG SAMUEL <or-yan.samuel@aims.ac.rw>\n",
      "Date:   Thu Sep 26 09:24:15 2024 -1200\n",
      "\n",
      "    Restored README.md\n",
      "\n",
      "commit 8376315f66c7c5673ec711fd733f2b73923b9f9f\n",
      "Author: OR-YANG SAMUEL <or-yan.samuel@aims.ac.rw>\n",
      "Date:   Thu Sep 26 09:13:11 2024 -1200\n",
      "\n",
      "    Waiting to be committed.\n",
      "\n",
      "commit 762431172684146e7fd807b0247682159a574fd0\n",
      "Author: OR-YANG SAMUEL <or-yan.samuel@aims.ac.rw>\n",
      "Date:   Thu Sep 26 09:02:55 2024 -1200\n",
      "\n",
      "    Waiting to be committed.\n",
      "\n",
      "commit 059264451329dbc7f2720164d60de1511a258606\n",
      "Author: OR-YANG SAMUEL <or-yan.samuel@aims.ac.rw>\n",
      "Date:   Thu Sep 26 08:49:24 2024 -1200\n",
      "\n",
      "    Waiting to be committed.\n",
      "\n",
      "commit 70551794df18e589dc785bb796dfda1154e591df\n",
      "Author: OR-YANG SAMUEL <or-yan.samuel@aims.ac.rw>\n",
      "Date:   Thu Sep 26 05:50:47 2024 -1200\n",
      "\n",
      "    This is the first commit. It adds a readme file.\n"
     ]
    }
   ],
   "source": [
    "!git log"
   ]
  },
  {
   "cell_type": "code",
   "execution_count": 240,
   "metadata": {},
   "outputs": [
    {
     "name": "stdout",
     "output_type": "stream",
     "text": [
      "7291756150789781b9566866fdab4b9fd1e28b22 Revert \"Restored README.md\"\n",
      "2162a4b15767438336ebaf174ee72dbfb090d6ac Restored README.md\n",
      "8376315f66c7c5673ec711fd733f2b73923b9f9f Waiting to be committed.\n",
      "762431172684146e7fd807b0247682159a574fd0 Waiting to be committed.\n",
      "059264451329dbc7f2720164d60de1511a258606 Waiting to be committed.\n",
      "70551794df18e589dc785bb796dfda1154e591df This is the first commit. It adds a readme file.\n"
     ]
    }
   ],
   "source": [
    "!git log --pretty=oneline"
   ]
  },
  {
   "cell_type": "markdown",
   "metadata": {
    "id": "a60621d6"
   },
   "source": [
    "* * * *\n",
    "### Exercise :\n",
    "\n",
    "1. Create 5 files in your directory with one line of content in each\n",
    "   file.\n",
    "2. Commit the files to the repository.\n",
    "3. Change 2 of the 5 files and commit them.\n",
    "4. Undo the changes in step 3.\n",
    "5. Print out the last entry in the log.\n",
    "    \n",
    "* * * *"
   ]
  },
  {
   "cell_type": "markdown",
   "metadata": {
    "id": "15b9e659"
   },
   "source": [
    "## Resources\n",
    "\n",
    "1. [git book](http://git-scm.com/book) - Free and Open"
   ]
  }
 ],
 "metadata": {
  "colab": {
   "provenance": []
  },
  "kernelspec": {
   "display_name": "Python 3 (ipykernel)",
   "language": "python",
   "name": "python3"
  },
  "language_info": {
   "codemirror_mode": {
    "name": "ipython",
    "version": 3
   },
   "file_extension": ".py",
   "mimetype": "text/x-python",
   "name": "python",
   "nbconvert_exporter": "python",
   "pygments_lexer": "ipython3",
   "version": "3.12.4"
  }
 },
 "nbformat": 4,
 "nbformat_minor": 4
}
